{
 "cells": [
  {
   "cell_type": "markdown",
   "id": "4cca0577-9966-49b1-af96-68007375dd8d",
   "metadata": {
    "tags": []
   },
   "source": [
    "# Accessing the project's API's"
   ]
  },
  {
   "cell_type": "code",
   "execution_count": 1,
   "id": "c827b4d0-9ab9-4b47-8a13-25451fe3dd75",
   "metadata": {},
   "outputs": [],
   "source": [
    "import os\n",
    "import requests\n",
    "import json\n",
    "import pandas as pd\n",
    "import datetime\n",
    "import time\n",
    "import matplotlib.pyplot as plt\n",
    "import numpy as np\n",
    "import Functions as F"
   ]
  },
  {
   "cell_type": "markdown",
   "id": "c34e37fe-64ea-44bf-9ee0-e572068f68f2",
   "metadata": {},
   "source": [
    "## Automatic Update"
   ]
  },
  {
   "cell_type": "code",
   "execution_count": 2,
   "id": "cf50f19a-6e7c-498d-839d-b26acb39d4e9",
   "metadata": {},
   "outputs": [],
   "source": [
    "h = F.Handles ()\n",
    "database_fn = 'd:/repos/pirnacasestudy/data/database.db'\n",
    "engine, connection, base, session = F.DbCon(database_fn)"
   ]
  },
  {
   "cell_type": "markdown",
   "id": "345f82dc-b963-4450-9bdf-735fb61fd7d7",
   "metadata": {},
   "source": [
    "### How to retrieve important Data?"
   ]
  },
  {
   "cell_type": "code",
   "execution_count": 4,
   "id": "44a184b8-cbd9-4b21-9226-17cd100e18c5",
   "metadata": {},
   "outputs": [
    {
     "data": {
      "text/html": [
       "<div>\n",
       "<style scoped>\n",
       "    .dataframe tbody tr th:only-of-type {\n",
       "        vertical-align: middle;\n",
       "    }\n",
       "\n",
       "    .dataframe tbody tr th {\n",
       "        vertical-align: top;\n",
       "    }\n",
       "\n",
       "    .dataframe thead th {\n",
       "        text-align: right;\n",
       "    }\n",
       "</style>\n",
       "<table border=\"1\" class=\"dataframe\">\n",
       "  <thead>\n",
       "    <tr style=\"text-align: right;\">\n",
       "      <th></th>\n",
       "      <th>MonitoringPointID</th>\n",
       "      <th>PointID</th>\n",
       "      <th>MonitoringPointName</th>\n",
       "      <th>ReferenceAltitude</th>\n",
       "      <th>Type</th>\n",
       "      <th>TypeOfAltitude</th>\n",
       "      <th>MonitoringPointID</th>\n",
       "      <th>DiverID</th>\n",
       "      <th>DiverName</th>\n",
       "      <th>IOT</th>\n",
       "      <th>Functioning</th>\n",
       "      <th>PointsID</th>\n",
       "      <th>E</th>\n",
       "      <th>N</th>\n",
       "      <th>NextUpdate_t</th>\n",
       "      <th>NextUpdate_ts</th>\n",
       "    </tr>\n",
       "  </thead>\n",
       "  <tbody>\n",
       "    <tr>\n",
       "      <th>0</th>\n",
       "      <td>23</td>\n",
       "      <td>26</td>\n",
       "      <td>GWM02</td>\n",
       "      <td>117.98</td>\n",
       "      <td>Well</td>\n",
       "      <td>Top Case</td>\n",
       "      <td>23</td>\n",
       "      <td>11</td>\n",
       "      <td>I-2</td>\n",
       "      <td>1</td>\n",
       "      <td>1</td>\n",
       "      <td>26</td>\n",
       "      <td>13.923774</td>\n",
       "      <td>50.965905</td>\n",
       "      <td>2022-12-13 13:00:00</td>\n",
       "      <td>1670936400</td>\n",
       "    </tr>\n",
       "    <tr>\n",
       "      <th>1</th>\n",
       "      <td>24</td>\n",
       "      <td>27</td>\n",
       "      <td>GWM03</td>\n",
       "      <td>117.88</td>\n",
       "      <td>Well</td>\n",
       "      <td>Top Case</td>\n",
       "      <td>24</td>\n",
       "      <td>12</td>\n",
       "      <td>I-3</td>\n",
       "      <td>1</td>\n",
       "      <td>1</td>\n",
       "      <td>27</td>\n",
       "      <td>13.923764</td>\n",
       "      <td>50.965858</td>\n",
       "      <td>2022-12-13 13:00:00</td>\n",
       "      <td>1670936400</td>\n",
       "    </tr>\n",
       "    <tr>\n",
       "      <th>2</th>\n",
       "      <td>26</td>\n",
       "      <td>29</td>\n",
       "      <td>GWM05</td>\n",
       "      <td>117.87</td>\n",
       "      <td>Well</td>\n",
       "      <td>Top Case</td>\n",
       "      <td>26</td>\n",
       "      <td>13</td>\n",
       "      <td>I-5</td>\n",
       "      <td>1</td>\n",
       "      <td>1</td>\n",
       "      <td>29</td>\n",
       "      <td>13.923778</td>\n",
       "      <td>50.965812</td>\n",
       "      <td>2022-12-13 23:00:00</td>\n",
       "      <td>1670972400</td>\n",
       "    </tr>\n",
       "    <tr>\n",
       "      <th>3</th>\n",
       "      <td>13</td>\n",
       "      <td>16</td>\n",
       "      <td>G21neu</td>\n",
       "      <td>116.46</td>\n",
       "      <td>Well</td>\n",
       "      <td>Top Case</td>\n",
       "      <td>13</td>\n",
       "      <td>15</td>\n",
       "      <td>123</td>\n",
       "      <td>1</td>\n",
       "      <td>1</td>\n",
       "      <td>16</td>\n",
       "      <td>13.922611</td>\n",
       "      <td>50.965332</td>\n",
       "      <td>2022-11-30 11:00:00</td>\n",
       "      <td>1669806000</td>\n",
       "    </tr>\n",
       "    <tr>\n",
       "      <th>4</th>\n",
       "      <td>15</td>\n",
       "      <td>18</td>\n",
       "      <td>G24</td>\n",
       "      <td>119.56</td>\n",
       "      <td>Well</td>\n",
       "      <td>Top Case</td>\n",
       "      <td>15</td>\n",
       "      <td>16</td>\n",
       "      <td>124</td>\n",
       "      <td>1</td>\n",
       "      <td>1</td>\n",
       "      <td>18</td>\n",
       "      <td>13.924817</td>\n",
       "      <td>50.966529</td>\n",
       "      <td>2022-12-12 13:00:00</td>\n",
       "      <td>1670850000</td>\n",
       "    </tr>\n",
       "    <tr>\n",
       "      <th>5</th>\n",
       "      <td>20</td>\n",
       "      <td>23</td>\n",
       "      <td>G29</td>\n",
       "      <td>120.14</td>\n",
       "      <td>Well</td>\n",
       "      <td>Top Case</td>\n",
       "      <td>20</td>\n",
       "      <td>17</td>\n",
       "      <td>125</td>\n",
       "      <td>1</td>\n",
       "      <td>1</td>\n",
       "      <td>23</td>\n",
       "      <td>13.922332</td>\n",
       "      <td>50.966438</td>\n",
       "      <td>2022-12-14 13:00:00</td>\n",
       "      <td>1671022800</td>\n",
       "    </tr>\n",
       "    <tr>\n",
       "      <th>6</th>\n",
       "      <td>21</td>\n",
       "      <td>24</td>\n",
       "      <td>G30</td>\n",
       "      <td>118.89</td>\n",
       "      <td>Well</td>\n",
       "      <td>Top Case</td>\n",
       "      <td>21</td>\n",
       "      <td>18</td>\n",
       "      <td>126</td>\n",
       "      <td>1</td>\n",
       "      <td>1</td>\n",
       "      <td>24</td>\n",
       "      <td>13.924894</td>\n",
       "      <td>50.966210</td>\n",
       "      <td>2022-12-13 13:00:00</td>\n",
       "      <td>1670936400</td>\n",
       "    </tr>\n",
       "    <tr>\n",
       "      <th>7</th>\n",
       "      <td>18</td>\n",
       "      <td>21</td>\n",
       "      <td>G27</td>\n",
       "      <td>118.33</td>\n",
       "      <td>Well</td>\n",
       "      <td>Top Case</td>\n",
       "      <td>18</td>\n",
       "      <td>19</td>\n",
       "      <td>127</td>\n",
       "      <td>1</td>\n",
       "      <td>1</td>\n",
       "      <td>21</td>\n",
       "      <td>13.924870</td>\n",
       "      <td>50.965741</td>\n",
       "      <td>2022-11-28 13:00:00</td>\n",
       "      <td>1669640400</td>\n",
       "    </tr>\n",
       "  </tbody>\n",
       "</table>\n",
       "</div>"
      ],
      "text/plain": [
       "   MonitoringPointID  PointID MonitoringPointName  ReferenceAltitude  Type  \\\n",
       "0                 23       26               GWM02             117.98  Well   \n",
       "1                 24       27               GWM03             117.88  Well   \n",
       "2                 26       29               GWM05             117.87  Well   \n",
       "3                 13       16              G21neu             116.46  Well   \n",
       "4                 15       18                 G24             119.56  Well   \n",
       "5                 20       23                 G29             120.14  Well   \n",
       "6                 21       24                 G30             118.89  Well   \n",
       "7                 18       21                 G27             118.33  Well   \n",
       "\n",
       "  TypeOfAltitude  MonitoringPointID  DiverID DiverName  IOT  Functioning  \\\n",
       "0       Top Case                 23       11       I-2    1            1   \n",
       "1       Top Case                 24       12       I-3    1            1   \n",
       "2       Top Case                 26       13       I-5    1            1   \n",
       "3       Top Case                 13       15       123    1            1   \n",
       "4       Top Case                 15       16       124    1            1   \n",
       "5       Top Case                 20       17       125    1            1   \n",
       "6       Top Case                 21       18       126    1            1   \n",
       "7       Top Case                 18       19       127    1            1   \n",
       "\n",
       "   PointsID          E          N        NextUpdate_t  NextUpdate_ts  \n",
       "0        26  13.923774  50.965905 2022-12-13 13:00:00     1670936400  \n",
       "1        27  13.923764  50.965858 2022-12-13 13:00:00     1670936400  \n",
       "2        29  13.923778  50.965812 2022-12-13 23:00:00     1670972400  \n",
       "3        16  13.922611  50.965332 2022-11-30 11:00:00     1669806000  \n",
       "4        18  13.924817  50.966529 2022-12-12 13:00:00     1670850000  \n",
       "5        23  13.922332  50.966438 2022-12-14 13:00:00     1671022800  \n",
       "6        24  13.924894  50.966210 2022-12-13 13:00:00     1670936400  \n",
       "7        21  13.924870  50.965741 2022-11-28 13:00:00     1669640400  "
      ]
     },
     "execution_count": 4,
     "metadata": {},
     "output_type": "execute_result"
    }
   ],
   "source": [
    "SensorsAPI_df, Sensors_df = F.Handles.GetDivers(connection) #inowas sensors for project #DEU1 | Sensors_df = combination of sensors and variables that are monitored\n",
    "h.GetMonitorintPointData (connection)\n",
    "\n",
    "MonitoringPoints_df = h.MonitoringPoints_df #All Monitoring Points \n",
    "\n",
    "PointsWithDivers_df = h.PointsWithDivers_df #Points that have divers\n",
    "\n",
    "GageData = h.GageData\n",
    "\n",
    "DiversNextUpdate_df = h.DiversNextUpdate_df\n",
    "FunctioningDivers_df = DiversNextUpdate_df [(DiversNextUpdate_df.IOT == 1) & (DiversNextUpdate_df.Functioning ==1)].reset_index (drop = True)\n",
    "FunctioningDivers_df"
   ]
  },
  {
   "cell_type": "markdown",
   "id": "9a198b4b-0288-4f8b-b87a-c78e4080dcb6",
   "metadata": {},
   "source": [
    "### Update from the LastUpdate_ts DiverName columns"
   ]
  },
  {
   "cell_type": "code",
   "execution_count": null,
   "id": "afc26585-49c5-4963-864b-3fd358fe5271",
   "metadata": {},
   "outputs": [],
   "source": [
    "def SequenceUpdate (sensor, sts):\n",
    "    handles = Handles()\n",
    "    handles.GetDiverData(sensor = sensor, connection = connection)\n",
    "    api  = LongUpdateDiverData(handles, sensor, connection = connection)\n",
    "    ets = round(pd.to_datetime(datetime.now()).value / 1e9)\n",
    "    for p in api.parameters.VariableName:\n",
    "        api.Request(sensor, p, sts, ets)\n",
    "        api.Process()\n",
    "        api.Update()\n",
    "        print (f'River data updated from ID {api.Process_df.iloc[0,0]} to ID {api.Process_df.iloc[-1,0]} for sensor {sensor} parameter {p}')"
   ]
  },
  {
   "cell_type": "code",
   "execution_count": null,
   "id": "c7e85ac7-0161-460e-a100-c8d4f4648da5",
   "metadata": {},
   "outputs": [],
   "source": [
    "def InowasLongAPItoSQL (database_dn = database_fn):\n",
    "    t0 = time.perf_counter()\n",
    "    engine, connection, base, session = DbCon(database_fn)\n",
    "    \n",
    "    h = Handles ()\n",
    "    SensorsAPI_df, Sensors_df = Handles.GetDivers(connection)\n",
    "    h.GetMonitorintPointData (connection)\n",
    "    DiversLastUpdate_df = h.DiversLastUpdate_df\n",
    "    FunctioningDivers_df = DiversLastUpdate_df [(DiversLastUpdate_df.IOT == 1) & (DiversLastUpdate_df.Functioning ==1)].reset_index (drop = True) \n",
    "    \n",
    "    t1 = time.perf_counter()\n",
    "    print(f'                   The running time was {round(t1-t0)} s')"
   ]
  },
  {
   "cell_type": "code",
   "execution_count": null,
   "id": "bc0d8342-b160-4d15-bd0a-b3da3239efa3",
   "metadata": {},
   "outputs": [],
   "source": [
    "sensors_list = ['123', '124', '125', '126', '127']\n",
    "sts_list = [1668445200, 1668448800, 1668448800, 1669032000, 1668452400 ]\n",
    "for i,sensor in enumerate(sensors_list):\n",
    "    SequenceUpdate(sensor, sts_list[i])"
   ]
  },
  {
   "cell_type": "code",
   "execution_count": null,
   "id": "1278c792-23da-4206-b395-5bf6f9d463f1",
   "metadata": {},
   "outputs": [],
   "source": []
  },
  {
   "cell_type": "code",
   "execution_count": null,
   "id": "5333a211-b1f1-432d-9ad4-a6c24c8684d5",
   "metadata": {},
   "outputs": [],
   "source": []
  },
  {
   "cell_type": "code",
   "execution_count": 4,
   "id": "1e71309b-23b4-487b-8edc-594ce6fbd0ac",
   "metadata": {},
   "outputs": [
    {
     "name": "stdout",
     "output_type": "stream",
     "text": [
      "Last Update for River data was 2022-12-13 17:00:00\n"
     ]
    }
   ],
   "source": [
    "t, ts = F.Handles.GetAPIDate (connection, GageData.MonitoringPointID.iloc[0])\n",
    "print(f'Last Update for River data was {t}')"
   ]
  },
  {
   "cell_type": "markdown",
   "id": "0222b178-890b-43f9-9c0b-ed37921f5047",
   "metadata": {
    "tags": []
   },
   "source": [
    "## River Data"
   ]
  },
  {
   "cell_type": "code",
   "execution_count": 1,
   "id": "c3633210-fc46-4ffd-b0db-fcbd5e233cde",
   "metadata": {},
   "outputs": [],
   "source": [
    "import Functions as F\n",
    "from datetime import datetime\n",
    "import pandas as pd"
   ]
  },
  {
   "cell_type": "code",
   "execution_count": 26,
   "id": "69fcdd06-8636-47d0-938d-4f5317257341",
   "metadata": {},
   "outputs": [],
   "source": [
    "database_fn = 'd:/repos/pirnacasestudy/data/database.db'\n",
    "engine, connection, base, session = F.DbCon(database_fn)"
   ]
  },
  {
   "cell_type": "code",
   "execution_count": 27,
   "id": "0b053c6a-c81a-4a9c-83b4-804379ee0f4b",
   "metadata": {},
   "outputs": [
    {
     "name": "stdout",
     "output_type": "stream",
     "text": [
      "Delete from ID 1078477 in case it is wanted\n"
     ]
    }
   ],
   "source": [
    "UpdateID = F.Handles.GetUpdateID (connection)\n",
    "print( f'Delete from ID {UpdateID} in case it is wanted')"
   ]
  },
  {
   "cell_type": "code",
   "execution_count": 28,
   "id": "717840ed-cacf-43d1-bb6b-9cc555d25b40",
   "metadata": {},
   "outputs": [
    {
     "data": {
      "text/plain": [
       "'River data updated from ID 1078477 to ID 1086390'"
      ]
     },
     "execution_count": 28,
     "metadata": {},
     "output_type": "execute_result"
    }
   ],
   "source": [
    "handles = F.Handles()\n",
    "\n",
    "handles.GetMonitorintPointData(connection = connection)\n",
    "GageData = handles.GageData\n",
    "api = F.UpdateRiverData(handles, connection)\n",
    "api.Request( )\n",
    "api.Process( )\n",
    "api.Update( )"
   ]
  },
  {
   "cell_type": "markdown",
   "id": "1e346ce9-fddb-4a8e-af40-abb8ce07615c",
   "metadata": {
    "tags": []
   },
   "source": [
    "### Delete Update"
   ]
  },
  {
   "cell_type": "code",
   "execution_count": null,
   "id": "906fba1e-83ca-41b2-b3e6-90bfe866eaac",
   "metadata": {},
   "outputs": [
    {
     "data": {
      "text/plain": [
       "<sqlalchemy.engine.cursor.LegacyCursorResult at 0x1a4f0faf610>"
      ]
     },
     "execution_count": 25,
     "metadata": {},
     "output_type": "execute_result"
    }
   ],
   "source": [
    "from sqlalchemy import MetaData, Table\n",
    "\n",
    "\n",
    "# initialize the Metadata Object\n",
    "meta = MetaData(bind=engine)\n",
    "MetaData.reflect(meta)\n",
    "# n = UpdateID  \n",
    "n = 1078477 \n",
    "d = table.delete().where(table.c.ID >= n)\n",
    "# d.execute()\n",
    "table = Table('PointsMeasurements', meta, autoload=True)\n",
    "\n",
    "#delete commands"
   ]
  },
  {
   "cell_type": "markdown",
   "id": "4071e721",
   "metadata": {
    "tags": []
   },
   "source": []
  },
  {
   "cell_type": "markdown",
   "id": "f57649b8-f546-4d36-812b-076c68ac6566",
   "metadata": {
    "jp-MarkdownHeadingCollapsed": true,
    "tags": []
   },
   "source": [
    "## Long request for Inowas Data - With Classes"
   ]
  },
  {
   "cell_type": "code",
   "execution_count": 2,
   "id": "a097346d-7989-4707-a11b-d29ac7336f3f",
   "metadata": {},
   "outputs": [],
   "source": [
    "database_fn = 'd:/repos/pirnacasestudy/data/database.db'\n",
    "engine, connection, base, session = F.DbCon(database_fn)"
   ]
  },
  {
   "cell_type": "code",
   "execution_count": 4,
   "id": "a2ca6e2a-e68f-4c7d-ba84-9d78262592c6",
   "metadata": {},
   "outputs": [
    {
     "name": "stdout",
     "output_type": "stream",
     "text": [
      "Delete from ID 1086391 in case it is wanted\n"
     ]
    }
   ],
   "source": [
    "UpdateID2 = F.Handles.GetUpdateID (connection)\n",
    "print( f'Delete from ID {UpdateID2} in case it is wanted')"
   ]
  },
  {
   "cell_type": "code",
   "execution_count": 6,
   "id": "a3cba90e-f162-4753-b56f-8187e753d43d",
   "metadata": {},
   "outputs": [
    {
     "name": "stdout",
     "output_type": "stream",
     "text": [
      "Delete from ID 1086391 in case it is wanted\n"
     ]
    }
   ],
   "source": [
    "UpdateID = F.Handles.GetUpdateID (connection)\n",
    "print( f'Delete from ID {UpdateID} in case it is wanted')"
   ]
  },
  {
   "cell_type": "code",
   "execution_count": 8,
   "id": "6bd9bb0d-3c41-41eb-9002-b300f726a5cc",
   "metadata": {},
   "outputs": [],
   "source": [
    "def SequenceUpdate (sensor):\n",
    "    handles = F.Handles()\n",
    "    handles.GetDiverData(sensor = sensor, connection = connection)\n",
    "    api  = F.LongUpdateDiverData(handles, sensor, connection = connection)\n",
    "    for p in api.parameters.VariableName:\n",
    "        api.Request(sensor, p, sts, ets)\n",
    "        api.Process()\n",
    "        api.Update()\n",
    "        print (f'River data updated from ID {api.Process_df.iloc[0,0]} to ID {api.Process_df.iloc[-1,0]} for sensor {sensor} parameter {p}')"
   ]
  },
  {
   "cell_type": "code",
   "execution_count": 9,
   "id": "5b559926-8c64-4714-b18f-42c9746fbe61",
   "metadata": {},
   "outputs": [
    {
     "name": "stdout",
     "output_type": "stream",
     "text": [
      "River data updated from ID 1086391 to ID 1087082 for sensor I-2 parameter ec_25\n",
      "River data updated from ID 1087083 to ID 1087774 for sensor I-2 parameter ec\n",
      "River data updated from ID 1087775 to ID 1088466 for sensor I-2 parameter h_level\n",
      "River data updated from ID 1088467 to ID 1089158 for sensor I-2 parameter v_batt\n",
      "River data updated from ID 1089159 to ID 1089850 for sensor I-2 parameter t\n",
      "River data updated from ID 1089851 to ID 1090542 for sensor I-2 parameter ph\n",
      "River data updated from ID 1090543 to ID 1091234 for sensor I-2 parameter ldo\n",
      "River data updated from ID 1091235 to ID 1091926 for sensor I-3 parameter ec_25\n",
      "River data updated from ID 1091927 to ID 1092618 for sensor I-3 parameter ec\n",
      "River data updated from ID 1092619 to ID 1093310 for sensor I-3 parameter h_level\n",
      "River data updated from ID 1093311 to ID 1094002 for sensor I-3 parameter v_batt\n",
      "River data updated from ID 1094003 to ID 1094694 for sensor I-3 parameter t\n",
      "River data updated from ID 1094695 to ID 1095386 for sensor I-3 parameter ph\n",
      "River data updated from ID 1095387 to ID 1096078 for sensor I-3 parameter ldo\n",
      "River data updated from ID 1096079 to ID 1096770 for sensor I-5 parameter ec_25\n",
      "River data updated from ID 1096771 to ID 1097462 for sensor I-5 parameter ec\n",
      "River data updated from ID 1097463 to ID 1098154 for sensor I-5 parameter h_level\n",
      "River data updated from ID 1098155 to ID 1098846 for sensor I-5 parameter v_batt\n",
      "River data updated from ID 1098847 to ID 1099538 for sensor I-5 parameter t\n",
      "River data updated from ID 1099539 to ID 1100230 for sensor I-5 parameter ph\n",
      "River data updated from ID 1100231 to ID 1100922 for sensor I-5 parameter ldo\n"
     ]
    }
   ],
   "source": [
    "et = pd.to_datetime(datetime.now())\n",
    "ets = int (et.value / 1e9)\n",
    "sts = 1668445200\n",
    "for sensor in ['I-2', 'I-3', 'I-5']:\n",
    "    SequenceUpdate(sensor)"
   ]
  },
  {
   "cell_type": "code",
   "execution_count": 10,
   "id": "9a7cd506-6dd8-41c4-9a93-62801d39878c",
   "metadata": {},
   "outputs": [],
   "source": [
    "def SequenceUpdate (sensor, sts):\n",
    "    handles = F.Handles()\n",
    "    handles.GetDiverData(sensor = sensor, connection = connection)\n",
    "    api  = F.LongUpdateDiverData(handles, sensor, connection = connection)\n",
    "    for p in api.parameters.VariableName:\n",
    "        api.Request(sensor, p, sts, ets)\n",
    "        api.Process()\n",
    "        api.Update()\n",
    "        print (f'River data updated from ID {api.Process_df.iloc[0,0]} to ID {api.Process_df.iloc[-1,0]} for sensor {sensor} parameter {p}')"
   ]
  },
  {
   "cell_type": "code",
   "execution_count": 11,
   "id": "90e75e78-263b-44bc-85af-ed6869ef153b",
   "metadata": {},
   "outputs": [
    {
     "name": "stdout",
     "output_type": "stream",
     "text": [
      "River data updated from ID 1100923 to ID 1101300 for sensor 123 parameter ec_25\n",
      "River data updated from ID 1101301 to ID 1101678 for sensor 123 parameter ec\n",
      "River data updated from ID 1101679 to ID 1102056 for sensor 123 parameter h_level\n",
      "River data updated from ID 1102057 to ID 1102434 for sensor 123 parameter v_batt\n",
      "River data updated from ID 1102435 to ID 1102812 for sensor 123 parameter t\n",
      "River data updated from ID 1102813 to ID 1103479 for sensor 124 parameter ec_25\n",
      "River data updated from ID 1103480 to ID 1104146 for sensor 124 parameter ec\n",
      "River data updated from ID 1104147 to ID 1104813 for sensor 124 parameter h_level\n",
      "River data updated from ID 1104814 to ID 1105480 for sensor 124 parameter v_batt\n",
      "River data updated from ID 1105481 to ID 1106147 for sensor 124 parameter t\n",
      "River data updated from ID 1106148 to ID 1106790 for sensor 125 parameter ec_25\n",
      "River data updated from ID 1106791 to ID 1107433 for sensor 125 parameter ec\n",
      "River data updated from ID 1107434 to ID 1108076 for sensor 125 parameter h_level\n",
      "River data updated from ID 1108077 to ID 1108719 for sensor 125 parameter v_batt\n",
      "River data updated from ID 1108720 to ID 1109362 for sensor 125 parameter t\n",
      "River data updated from ID 1109363 to ID 1109891 for sensor 126 parameter ec_25\n",
      "River data updated from ID 1109892 to ID 1110420 for sensor 126 parameter ec\n",
      "River data updated from ID 1110421 to ID 1110949 for sensor 126 parameter h_level\n",
      "River data updated from ID 1110950 to ID 1111478 for sensor 126 parameter v_batt\n",
      "River data updated from ID 1111479 to ID 1112007 for sensor 126 parameter t\n",
      "River data updated from ID 1112008 to ID 1112337 for sensor 127 parameter ec_25\n",
      "River data updated from ID 1112338 to ID 1112667 for sensor 127 parameter ec\n",
      "River data updated from ID 1112668 to ID 1112997 for sensor 127 parameter h_level\n",
      "River data updated from ID 1112998 to ID 1113327 for sensor 127 parameter v_batt\n",
      "River data updated from ID 1113328 to ID 1113657 for sensor 127 parameter t\n"
     ]
    }
   ],
   "source": [
    "sensors_list = ['123', '124', '125', '126', '127']\n",
    "sts_list = [1668445200, 1668448800, 1668448800, 1669032000, 1668452400 ]\n",
    "for i,sensor in enumerate(sensors_list):\n",
    "    SequenceUpdate(sensor, sts_list[i])"
   ]
  },
  {
   "cell_type": "markdown",
   "id": "8f16907a-ee39-4a83-8df7-2f1130b2c75b",
   "metadata": {
    "jp-MarkdownHeadingCollapsed": true,
    "tags": []
   },
   "source": [
    "### Check Results\n",
    "\n",
    "Iterative process here."
   ]
  },
  {
   "cell_type": "code",
   "execution_count": null,
   "id": "f3260a68-082d-44cc-9ca3-b2de39c94c6c",
   "metadata": {},
   "outputs": [
    {
     "name": "stdout",
     "output_type": "stream",
     "text": [
      "2022-12-12 10:35:22,648 INFO sqlalchemy.engine.Engine BEGIN (implicit)\n",
      "2022-12-12 10:35:22,648 INFO sqlalchemy.engine.Engine PRAGMA main.table_info(\"TestsType\")\n",
      "2022-12-12 10:35:22,648 INFO sqlalchemy.engine.Engine [raw sql] ()\n",
      "2022-12-12 10:35:22,648 INFO sqlalchemy.engine.Engine PRAGMA main.table_info(\"Divers\")\n",
      "2022-12-12 10:35:22,648 INFO sqlalchemy.engine.Engine [raw sql] ()\n",
      "2022-12-12 10:35:22,664 INFO sqlalchemy.engine.Engine PRAGMA main.table_info(\"Variables\")\n",
      "2022-12-12 10:35:22,664 INFO sqlalchemy.engine.Engine [raw sql] ()\n",
      "2022-12-12 10:35:22,664 INFO sqlalchemy.engine.Engine PRAGMA main.table_info(\"Points\")\n",
      "2022-12-12 10:35:22,664 INFO sqlalchemy.engine.Engine [raw sql] ()\n",
      "2022-12-12 10:35:22,664 INFO sqlalchemy.engine.Engine PRAGMA main.table_info(\"DrillingTests\")\n",
      "2022-12-12 10:35:22,664 INFO sqlalchemy.engine.Engine [raw sql] ()\n",
      "2022-12-12 10:35:22,664 INFO sqlalchemy.engine.Engine PRAGMA main.table_info(\"MonitoringPoints\")\n",
      "2022-12-12 10:35:22,664 INFO sqlalchemy.engine.Engine [raw sql] ()\n",
      "2022-12-12 10:35:22,680 INFO sqlalchemy.engine.Engine PRAGMA main.table_info(\"WellDiver\")\n",
      "2022-12-12 10:35:22,680 INFO sqlalchemy.engine.Engine [raw sql] ()\n",
      "2022-12-12 10:35:22,680 INFO sqlalchemy.engine.Engine PRAGMA main.table_info(\"PointsMeasurements\")\n",
      "2022-12-12 10:35:22,680 INFO sqlalchemy.engine.Engine [raw sql] ()\n",
      "2022-12-12 10:35:22,680 INFO sqlalchemy.engine.Engine COMMIT\n"
     ]
    }
   ],
   "source": [
    "import os\n",
    "from datetime import datetime, timedelta\n",
    "import time\n",
    "import requests\n",
    "import numpy as np\n",
    "import pandas as pd\n",
    "from sqlalchemy import create_engine, update, Table, MetaData\n",
    "import CreateDatabase as db\n",
    "from sqlalchemy.orm import sessionmaker\n",
    "from sqlalchemy.ext.declarative import declarative_base\n",
    "import Functions as F\n",
    "import Querying as Q\n",
    "import matplotlib.pyplot as plt"
   ]
  },
  {
   "cell_type": "code",
   "execution_count": null,
   "id": "bfb433dd-31f1-48ee-a1b5-26d4bc6b0526",
   "metadata": {},
   "outputs": [],
   "source": [
    "database_fn = 'd:/repos/pirnacasestudy/data/database.db'"
   ]
  },
  {
   "cell_type": "code",
   "execution_count": null,
   "id": "1cb14503-4b31-41c5-9049-caed1e2a7211",
   "metadata": {},
   "outputs": [],
   "source": [
    "q = Q.TimeSeries(database_fn, 0)"
   ]
  },
  {
   "cell_type": "code",
   "execution_count": null,
   "id": "9cc779ba-84cd-4438-994d-42697b92548a",
   "metadata": {},
   "outputs": [],
   "source": [
    "df = q.DataFrame.copy()"
   ]
  },
  {
   "cell_type": "code",
   "execution_count": null,
   "id": "696cd80d-a910-4786-8023-cbfa0b6297a8",
   "metadata": {},
   "outputs": [
    {
     "data": {
      "text/plain": [
       "(612495, 10)"
      ]
     },
     "execution_count": 5,
     "metadata": {},
     "output_type": "execute_result"
    }
   ],
   "source": [
    "df.shape"
   ]
  },
  {
   "cell_type": "code",
   "execution_count": null,
   "id": "f47aade2-0848-4fe4-9a5c-a74ddad293e1",
   "metadata": {},
   "outputs": [
    {
     "data": {
      "text/plain": [
       "Timestamp('2022-12-11 12:00:00')"
      ]
     },
     "execution_count": 7,
     "metadata": {},
     "output_type": "execute_result"
    }
   ],
   "source": [
    "df.Date.max()"
   ]
  },
  {
   "cell_type": "code",
   "execution_count": null,
   "id": "96cdff64-5067-4a71-8ae1-f026e0ce44b0",
   "metadata": {},
   "outputs": [
    {
     "data": {
      "text/html": [
       "<div>\n",
       "<style scoped>\n",
       "    .dataframe tbody tr th:only-of-type {\n",
       "        vertical-align: middle;\n",
       "    }\n",
       "\n",
       "    .dataframe tbody tr th {\n",
       "        vertical-align: top;\n",
       "    }\n",
       "\n",
       "    .dataframe thead th {\n",
       "        text-align: right;\n",
       "    }\n",
       "</style>\n",
       "<table border=\"1\" class=\"dataframe\">\n",
       "  <thead>\n",
       "    <tr style=\"text-align: right;\">\n",
       "      <th></th>\n",
       "      <th>MonitoringPointID</th>\n",
       "      <th>TimeStamp</th>\n",
       "      <th>VariableID</th>\n",
       "      <th>Value</th>\n",
       "      <th>ID</th>\n",
       "      <th>Name</th>\n",
       "      <th>PointID</th>\n",
       "      <th>E</th>\n",
       "      <th>N</th>\n",
       "      <th>Date</th>\n",
       "    </tr>\n",
       "  </thead>\n",
       "  <tbody>\n",
       "    <tr>\n",
       "      <th>612311</th>\n",
       "      <td>18</td>\n",
       "      <td>1668452400</td>\n",
       "      <td>0</td>\n",
       "      <td>109.49</td>\n",
       "      <td>18</td>\n",
       "      <td>G27</td>\n",
       "      <td>21</td>\n",
       "      <td>13.92487</td>\n",
       "      <td>50.965741</td>\n",
       "      <td>2022-11-14 19:00:00</td>\n",
       "    </tr>\n",
       "    <tr>\n",
       "      <th>612312</th>\n",
       "      <td>18</td>\n",
       "      <td>1668456000</td>\n",
       "      <td>0</td>\n",
       "      <td>109.49</td>\n",
       "      <td>18</td>\n",
       "      <td>G27</td>\n",
       "      <td>21</td>\n",
       "      <td>13.92487</td>\n",
       "      <td>50.965741</td>\n",
       "      <td>2022-11-14 20:00:00</td>\n",
       "    </tr>\n",
       "    <tr>\n",
       "      <th>612313</th>\n",
       "      <td>18</td>\n",
       "      <td>1668459600</td>\n",
       "      <td>0</td>\n",
       "      <td>109.48</td>\n",
       "      <td>18</td>\n",
       "      <td>G27</td>\n",
       "      <td>21</td>\n",
       "      <td>13.92487</td>\n",
       "      <td>50.965741</td>\n",
       "      <td>2022-11-14 21:00:00</td>\n",
       "    </tr>\n",
       "    <tr>\n",
       "      <th>612314</th>\n",
       "      <td>18</td>\n",
       "      <td>1668463200</td>\n",
       "      <td>0</td>\n",
       "      <td>109.48</td>\n",
       "      <td>18</td>\n",
       "      <td>G27</td>\n",
       "      <td>21</td>\n",
       "      <td>13.92487</td>\n",
       "      <td>50.965741</td>\n",
       "      <td>2022-11-14 22:00:00</td>\n",
       "    </tr>\n",
       "    <tr>\n",
       "      <th>612315</th>\n",
       "      <td>18</td>\n",
       "      <td>1668466800</td>\n",
       "      <td>0</td>\n",
       "      <td>109.48</td>\n",
       "      <td>18</td>\n",
       "      <td>G27</td>\n",
       "      <td>21</td>\n",
       "      <td>13.92487</td>\n",
       "      <td>50.965741</td>\n",
       "      <td>2022-11-14 23:00:00</td>\n",
       "    </tr>\n",
       "  </tbody>\n",
       "</table>\n",
       "</div>"
      ],
      "text/plain": [
       "        MonitoringPointID   TimeStamp  VariableID   Value  ID Name  PointID  \\\n",
       "612311                 18  1668452400           0  109.49  18  G27       21   \n",
       "612312                 18  1668456000           0  109.49  18  G27       21   \n",
       "612313                 18  1668459600           0  109.48  18  G27       21   \n",
       "612314                 18  1668463200           0  109.48  18  G27       21   \n",
       "612315                 18  1668466800           0  109.48  18  G27       21   \n",
       "\n",
       "               E          N                Date  \n",
       "612311  13.92487  50.965741 2022-11-14 19:00:00  \n",
       "612312  13.92487  50.965741 2022-11-14 20:00:00  \n",
       "612313  13.92487  50.965741 2022-11-14 21:00:00  \n",
       "612314  13.92487  50.965741 2022-11-14 22:00:00  \n",
       "612315  13.92487  50.965741 2022-11-14 23:00:00  "
      ]
     },
     "execution_count": 7,
     "metadata": {},
     "output_type": "execute_result"
    }
   ],
   "source": [
    "df1 = df [(df.Date > pd.to_datetime('2022-02-01')) & (df.MonitoringPointID == 18)]\n",
    "df1.head()"
   ]
  },
  {
   "cell_type": "code",
   "execution_count": null,
   "id": "433b1f35-e40f-4a74-b984-091a80c83a81",
   "metadata": {},
   "outputs": [
    {
     "data": {
      "text/plain": [
       "(661, 10)"
      ]
     },
     "execution_count": 93,
     "metadata": {},
     "output_type": "execute_result"
    }
   ],
   "source": [
    "df1.shape"
   ]
  },
  {
   "cell_type": "code",
   "execution_count": null,
   "id": "9e4c726b-03fa-42fe-9804-dbe7e10de5fb",
   "metadata": {},
   "outputs": [
    {
     "data": {
      "text/html": [
       "<div>\n",
       "<style scoped>\n",
       "    .dataframe tbody tr th:only-of-type {\n",
       "        vertical-align: middle;\n",
       "    }\n",
       "\n",
       "    .dataframe tbody tr th {\n",
       "        vertical-align: top;\n",
       "    }\n",
       "\n",
       "    .dataframe thead th {\n",
       "        text-align: right;\n",
       "    }\n",
       "</style>\n",
       "<table border=\"1\" class=\"dataframe\">\n",
       "  <thead>\n",
       "    <tr style=\"text-align: right;\">\n",
       "      <th></th>\n",
       "      <th>MonitoringPointID</th>\n",
       "      <th>TimeStamp</th>\n",
       "      <th>VariableID</th>\n",
       "      <th>Value</th>\n",
       "      <th>ID</th>\n",
       "      <th>Name</th>\n",
       "      <th>PointID</th>\n",
       "      <th>E</th>\n",
       "      <th>N</th>\n",
       "      <th>Date</th>\n",
       "    </tr>\n",
       "  </thead>\n",
       "  <tbody>\n",
       "  </tbody>\n",
       "</table>\n",
       "</div>"
      ],
      "text/plain": [
       "Empty DataFrame\n",
       "Columns: [MonitoringPointID, TimeStamp, VariableID, Value, ID, Name, PointID, E, N, Date]\n",
       "Index: []"
      ]
     },
     "execution_count": 97,
     "metadata": {},
     "output_type": "execute_result"
    }
   ],
   "source": [
    "df1 [np.isnan(df1.Value)]"
   ]
  },
  {
   "cell_type": "code",
   "execution_count": null,
   "id": "f48046be-3e3d-49c3-b1bc-75b0093637b0",
   "metadata": {},
   "outputs": [
    {
     "data": {
      "text/plain": [
       "PeriodIndex(['2022-11-01 00:00', '2022-11-01 01:00', '2022-11-01 02:00',\n",
       "             '2022-11-01 03:00', '2022-11-01 04:00', '2022-11-01 05:00',\n",
       "             '2022-11-01 06:00', '2022-11-01 07:00', '2022-11-01 08:00',\n",
       "             '2022-11-01 09:00',\n",
       "             ...\n",
       "             '2022-11-28 03:00', '2022-11-28 04:00', '2022-11-28 05:00',\n",
       "             '2022-11-28 06:00', '2022-11-28 07:00', '2022-11-28 08:00',\n",
       "             '2022-11-28 09:00', '2022-11-28 10:00', '2022-11-28 11:00',\n",
       "             '2022-11-28 12:00'],\n",
       "            dtype='period[H]', length=661)"
      ]
     },
     "execution_count": 95,
     "metadata": {},
     "output_type": "execute_result"
    }
   ],
   "source": [
    "pd.period_range(min(df1.Date), max(df1.Date), freq = 'H')"
   ]
  },
  {
   "cell_type": "markdown",
   "id": "69097ce4-2226-42d3-982b-f11468005317",
   "metadata": {
    "tags": []
   },
   "source": [
    "**The filling dates in the F.PrepareRiverData function worked well.**"
   ]
  },
  {
   "cell_type": "code",
   "execution_count": null,
   "id": "7adce266-c08d-4273-a4e4-12335c71c145",
   "metadata": {},
   "outputs": [
    {
     "data": {
      "text/plain": [
       "(32611, 10)"
      ]
     },
     "execution_count": 101,
     "metadata": {},
     "output_type": "execute_result"
    }
   ],
   "source": [
    "df1 = df [(df.VariableID == 0) & (df.MonitoringPointID == 23)]\n",
    "df1.shape"
   ]
  },
  {
   "cell_type": "code",
   "execution_count": null,
   "id": "c64da962-9e28-4de7-be7f-c44f5214c130",
   "metadata": {},
   "outputs": [
    {
     "data": {
      "image/png": "[encoded data removed]",
      "text/plain": [
       "<Figure size 640x480 with 1 Axes>"
      ]
     },
     "metadata": {},
     "output_type": "display_data"
    }
   ],
   "source": [
    "df1 = df [(df.VariableID == 0) & (df.MonitoringPointID == 21)]\n",
    "# df1 = df1 [df.Date > pd.to_datetime('2022-11-14 18:00')]\n",
    "fig = plt.subplots()\n",
    "plt.scatter('Date', 'Value', data = df1 , marker = 'o', s = 0.2)\n",
    "plt.xticks(rotation = 45)\n",
    "plt.title(f'Head for {df1.Name.unique()[0]}')\n",
    "plt.legend()\n",
    "plt.show()"
   ]
  },
  {
   "cell_type": "code",
   "execution_count": null,
   "id": "765c5fcd-b3b8-4790-8f66-a60c68b5cea1",
   "metadata": {},
   "outputs": [
    {
     "data": {
      "text/plain": [
       "(Timestamp('2022-11-14 19:00:00'), 1668452400)"
      ]
     },
     "execution_count": 176,
     "metadata": {},
     "output_type": "execute_result"
    }
   ],
   "source": [
    "threshold_date = df1.iloc[0,:].Date\n",
    "threshold_ts = df1.iloc[0,:].TimeStamp\n",
    "threshold_date,threshold_ts"
   ]
  },
  {
   "cell_type": "code",
   "execution_count": null,
   "id": "a89e9f1c-d86f-4c35-9626-5d289151f6da",
   "metadata": {},
   "outputs": [
    {
     "data": {
      "text/plain": [
       "Series([], Name: TimeStamp, dtype: bool)"
      ]
     },
     "execution_count": 27,
     "metadata": {},
     "output_type": "execute_result"
    }
   ],
   "source": [
    "x = df1 [df1.Value < 108.5].TimeStamp.diff() < 3600\n",
    "x [x]"
   ]
  },
  {
   "cell_type": "code",
   "execution_count": null,
   "id": "b82de33d-064e-4eb7-9e89-6b2f283acd1a",
   "metadata": {},
   "outputs": [
    {
     "data": {
      "text/plain": [
       "(Timestamp('2022-11-14 17:00:00'), 1668445200)"
      ]
     },
     "execution_count": 28,
     "metadata": {},
     "output_type": "execute_result"
    }
   ],
   "source": [
    "threshold_date = df1 [df1.Value < 108.5].iloc[-1,:].Date\n",
    "threshold_ts = df1 [df1.Value < 108.5].iloc[-1,:].TimeStamp\n",
    "threshold_date,threshold_ts"
   ]
  },
  {
   "cell_type": "markdown",
   "id": "c48b6ede-f532-4e72-870d-7e39c7f7be95",
   "metadata": {
    "jp-MarkdownHeadingCollapsed": true,
    "tags": []
   },
   "source": [
    "#### we see problems in the divers that were installed recently. Below I delete the values that were not reading by establishing a visual threshold according to the graph above"
   ]
  },
  {
   "cell_type": "markdown",
   "id": "4c66d25b-bbe0-4949-b08b-be4d9fcf0baa",
   "metadata": {
    "tags": []
   },
   "source": [
    "#### Undo addition"
   ]
  },
  {
   "cell_type": "code",
   "execution_count": null,
   "id": "4d32b701-6eb0-4233-9cad-046784b3abf1",
   "metadata": {},
   "outputs": [],
   "source": [
    "engine, connection, base, session = DbCon(database_fn)\n",
    "\n",
    "# initialize the Metadata Object\n",
    "meta = MetaData(bind=engine)\n",
    "MetaData.reflect(meta)\n",
    "\n",
    "table = Table('PointsMeasurements', meta, autoload=True)\n",
    "\n",
    "\n",
    "#delete commands\n",
    "n = 1078477 #number before adding tables\n",
    "d = table.delete().where(table.c.ID > n)\n",
    "# d.execute()"
   ]
  },
  {
   "cell_type": "code",
   "execution_count": null,
   "id": "6f9b0102",
   "metadata": {},
   "outputs": [],
   "source": [
    "parameters_query = 'select Name from Variables'\n",
    "parameters_db = pd.read_sql(parameters_query, con = connection)"
   ]
  },
  {
   "cell_type": "code",
   "execution_count": null,
   "id": "4b401eae",
   "metadata": {},
   "outputs": [],
   "source": [
    "request = requests.get('https://sensors.inowas.com/list').json()\n",
    "request_index = [ i for i in request if i['project'] == 'DEU1']\n",
    "sensors_df = pd.DataFrame(request_index)"
   ]
  },
  {
   "cell_type": "code",
   "execution_count": null,
   "id": "38cff079",
   "metadata": {},
   "outputs": [],
   "source": [
    "parameters_df = sensors_df [ sensors_df.name == '128'].parameters.reset_index(drop=True)"
   ]
  },
  {
   "cell_type": "code",
   "execution_count": null,
   "id": "cf30a1a1",
   "metadata": {},
   "outputs": [
    {
     "data": {
      "text/plain": [
       "Series([], Name: parameters, dtype: object)"
      ]
     },
     "execution_count": 29,
     "metadata": {},
     "output_type": "execute_result"
    }
   ],
   "source": [
    "parameters_df"
   ]
  },
  {
   "cell_type": "markdown",
   "id": "d81a87d9-3e8d-487c-a8b9-92fedf9b58d8",
   "metadata": {
    "jp-MarkdownHeadingCollapsed": true,
    "tags": []
   },
   "source": [
    "### Undo Inowas"
   ]
  },
  {
   "cell_type": "code",
   "execution_count": null,
   "id": "26278f83-6dae-4f68-b40d-d77807e3a157",
   "metadata": {},
   "outputs": [],
   "source": []
  },
  {
   "cell_type": "code",
   "execution_count": null,
   "id": "b90deead-b5d3-4081-b5e5-b32d80ca7c2d",
   "metadata": {},
   "outputs": [],
   "source": [
    "#Update UTI Sensors\n",
    "et = pd.to_datetime(datetime.now())\n",
    "ets = int (et.value / 1e9)\n",
    "\n",
    "\n",
    "# monitoring point 13 - g21neu - (Timestamp('2022-11-14 17:00:00'), 1668445200)\n",
    "sts = 1668445200\n",
    "F.LongUpdatePInw(database_fn, '123', sts, ets, 0) \n",
    "\n",
    "# monitoring point 15 - g24 - (Timestamp('2022-11-14 18:00:00'), 1668448800)\n",
    "sts = 1668448800\n",
    "F.LongUpdatePInw(database_fn, '124', sts, ets, 0)\n",
    "\n",
    "#monitoring point 20 - g29 - OK\n",
    "# F.LongUpdatePInw(database_fn, '125', sts, ets, 0)\n",
    "\n",
    "#monitoring point 21 - g30 - (Timestamp('2022-11-21 12:00:00'), 1669032000)\n",
    "sts = 1669032000\n",
    "F.LongUpdatePInw(database_fn, '126', sts, ets, 0)\n",
    "\n",
    "#monitoring point 18 - g27 - (Timestamp('2022-11-14 19:00:00'), 1668452400)\n",
    "sts = 1668452400\n",
    "F.LongUpdatePInw(database_fn, '127', sts, ets, 0)"
   ]
  },
  {
   "cell_type": "code",
   "execution_count": 41,
   "id": "3987b273-2214-4022-bf0f-2d7612574b0c",
   "metadata": {},
   "outputs": [
    {
     "data": {
      "text/plain": [
       "<sqlalchemy.engine.cursor.LegacyCursorResult at 0x1a4f1139370>"
      ]
     },
     "execution_count": 41,
     "metadata": {},
     "output_type": "execute_result"
    }
   ],
   "source": [
    "from sqlalchemy import MetaData, Table\n",
    "\n",
    "\n",
    "# initialize the Metadata Object\n",
    "meta = MetaData(bind=engine)\n",
    "MetaData.reflect(meta)\n",
    "table = Table('PointsMeasurements', meta, autoload=True)\n",
    "\n",
    "#delete commands\n",
    "n = int(UpdateID2) \n",
    "d = table.delete().where(table.c.ID >= 1086391 )\n",
    "d.execute()"
   ]
  },
  {
   "cell_type": "markdown",
   "id": "949c2867-cc71-473c-8067-35e26a0e65bd",
   "metadata": {
    "jp-MarkdownHeadingCollapsed": true,
    "tags": []
   },
   "source": [
    "## New API Inowas"
   ]
  },
  {
   "cell_type": "markdown",
   "id": "9304c51a-f287-413a-884f-8accce48df5e",
   "metadata": {},
   "source": [
    "```python\n",
    "[11:06 PM, 23/11/2022] Ralf Junghanns INOWAS 🇩🇪: https://sensors.inowas.com/sensors/project/DEU1/latest\n",
    "[11:15 PM, 23/11/2022] Ralf Junghanns INOWAS 🇩🇪: https://sensors.inowas.com/sensors/project/DEU1/latest?since=1669065118\n",
    "[11:15 PM, 23/11/2022] Ralf Junghanns INOWAS 🇩🇪: con timestamp\n",
    "```"
   ]
  },
  {
   "cell_type": "markdown",
   "id": "6cd6ede1-db79-4892-9de3-43e4fd4fbb3b",
   "metadata": {},
   "source": [
    "### API works for november on, only\n",
    "\n",
    "We need to test if in December it still gets November os it is only the last month\n",
    "When I tried on the 25th of november, it only got values until the 25th of October. Now (29/11) it getting from 01/11.\n",
    "Sum an hour more otherwise it fetches repeated dates"
   ]
  },
  {
   "cell_type": "code",
   "execution_count": 13,
   "id": "5ab4ffbe-15ed-4be0-9b5d-fef5b68743cf",
   "metadata": {},
   "outputs": [],
   "source": [
    "import requests"
   ]
  },
  {
   "cell_type": "code",
   "execution_count": 16,
   "id": "8c5b37dc-cbbc-4c6c-adc4-1939d0acd0c2",
   "metadata": {},
   "outputs": [],
   "source": [
    "ts1 = 1669065118\n",
    "dt = pd.to_datetime(ts1 * 1e9)\n",
    "URL = f'https://sensors.inowas.com/sensors/project/DEU1/latest?since={ts1}'\n",
    "r = requests.get(URL).json()"
   ]
  },
  {
   "cell_type": "code",
   "execution_count": 17,
   "id": "08c32639-28cb-41b0-a26a-743a9c339c66",
   "metadata": {},
   "outputs": [],
   "source": [
    "df = pd.DataFrame(r)"
   ]
  },
  {
   "cell_type": "code",
   "execution_count": 18,
   "id": "4c50ec48-3ba9-4383-b48a-1d07eca2031e",
   "metadata": {},
   "outputs": [
    {
     "data": {
      "text/html": [
       "<div>\n",
       "<style scoped>\n",
       "    .dataframe tbody tr th:only-of-type {\n",
       "        vertical-align: middle;\n",
       "    }\n",
       "\n",
       "    .dataframe tbody tr th {\n",
       "        vertical-align: top;\n",
       "    }\n",
       "\n",
       "    .dataframe thead th {\n",
       "        text-align: right;\n",
       "    }\n",
       "</style>\n",
       "<table border=\"1\" class=\"dataframe\">\n",
       "  <thead>\n",
       "    <tr style=\"text-align: right;\">\n",
       "      <th></th>\n",
       "      <th>project_name</th>\n",
       "      <th>sensor_name</th>\n",
       "      <th>parameter_name</th>\n",
       "      <th>timestamp</th>\n",
       "      <th>value</th>\n",
       "    </tr>\n",
       "  </thead>\n",
       "  <tbody>\n",
       "    <tr>\n",
       "      <th>0</th>\n",
       "      <td>DEU1</td>\n",
       "      <td>124</td>\n",
       "      <td>h_level</td>\n",
       "      <td>1.669068e+09</td>\n",
       "      <td>0.841</td>\n",
       "    </tr>\n",
       "    <tr>\n",
       "      <th>1</th>\n",
       "      <td>DEU1</td>\n",
       "      <td>123</td>\n",
       "      <td>ec</td>\n",
       "      <td>1.669068e+09</td>\n",
       "      <td>0.427</td>\n",
       "    </tr>\n",
       "    <tr>\n",
       "      <th>2</th>\n",
       "      <td>DEU1</td>\n",
       "      <td>I-2</td>\n",
       "      <td>t</td>\n",
       "      <td>1.669068e+09</td>\n",
       "      <td>0.000</td>\n",
       "    </tr>\n",
       "    <tr>\n",
       "      <th>3</th>\n",
       "      <td>DEU1</td>\n",
       "      <td>I-5</td>\n",
       "      <td>ec</td>\n",
       "      <td>1.669068e+09</td>\n",
       "      <td>0.423</td>\n",
       "    </tr>\n",
       "    <tr>\n",
       "      <th>4</th>\n",
       "      <td>DEU1</td>\n",
       "      <td>123</td>\n",
       "      <td>v_batt</td>\n",
       "      <td>1.669068e+09</td>\n",
       "      <td>5.250</td>\n",
       "    </tr>\n",
       "    <tr>\n",
       "      <th>...</th>\n",
       "      <td>...</td>\n",
       "      <td>...</td>\n",
       "      <td>...</td>\n",
       "      <td>...</td>\n",
       "      <td>...</td>\n",
       "    </tr>\n",
       "    <tr>\n",
       "      <th>26965</th>\n",
       "      <td>DEU1</td>\n",
       "      <td>I-2</td>\n",
       "      <td>ph</td>\n",
       "      <td>1.670933e+09</td>\n",
       "      <td>0.000</td>\n",
       "    </tr>\n",
       "    <tr>\n",
       "      <th>26966</th>\n",
       "      <td>DEU1</td>\n",
       "      <td>I-2</td>\n",
       "      <td>ldo</td>\n",
       "      <td>1.670933e+09</td>\n",
       "      <td>0.000</td>\n",
       "    </tr>\n",
       "    <tr>\n",
       "      <th>26967</th>\n",
       "      <td>DEU1</td>\n",
       "      <td>126</td>\n",
       "      <td>h_level</td>\n",
       "      <td>1.670933e+09</td>\n",
       "      <td>1.599</td>\n",
       "    </tr>\n",
       "    <tr>\n",
       "      <th>26968</th>\n",
       "      <td>DEU1</td>\n",
       "      <td>I-2</td>\n",
       "      <td>t_intern</td>\n",
       "      <td>1.670933e+09</td>\n",
       "      <td>3.570</td>\n",
       "    </tr>\n",
       "    <tr>\n",
       "      <th>26969</th>\n",
       "      <td>DEU1</td>\n",
       "      <td>I-2</td>\n",
       "      <td>t</td>\n",
       "      <td>1.670933e+09</td>\n",
       "      <td>-273.140</td>\n",
       "    </tr>\n",
       "  </tbody>\n",
       "</table>\n",
       "<p>26970 rows × 5 columns</p>\n",
       "</div>"
      ],
      "text/plain": [
       "      project_name sensor_name parameter_name     timestamp    value\n",
       "0             DEU1         124        h_level  1.669068e+09    0.841\n",
       "1             DEU1         123             ec  1.669068e+09    0.427\n",
       "2             DEU1         I-2              t  1.669068e+09    0.000\n",
       "3             DEU1         I-5             ec  1.669068e+09    0.423\n",
       "4             DEU1         123         v_batt  1.669068e+09    5.250\n",
       "...            ...         ...            ...           ...      ...\n",
       "26965         DEU1         I-2             ph  1.670933e+09    0.000\n",
       "26966         DEU1         I-2            ldo  1.670933e+09    0.000\n",
       "26967         DEU1         126        h_level  1.670933e+09    1.599\n",
       "26968         DEU1         I-2       t_intern  1.670933e+09    3.570\n",
       "26969         DEU1         I-2              t  1.670933e+09 -273.140\n",
       "\n",
       "[26970 rows x 5 columns]"
      ]
     },
     "execution_count": 18,
     "metadata": {},
     "output_type": "execute_result"
    }
   ],
   "source": [
    "df"
   ]
  },
  {
   "cell_type": "code",
   "execution_count": 20,
   "id": "debe1d33-59b4-4210-824c-fc27d1175fe2",
   "metadata": {},
   "outputs": [],
   "source": [
    "df['Time'] = pd.to_datetime(df.timestamp * 1e9)"
   ]
  },
  {
   "cell_type": "code",
   "execution_count": 22,
   "id": "c7a560f4-2fb1-4555-9175-b0c2fe5fabe4",
   "metadata": {},
   "outputs": [
    {
     "data": {
      "text/plain": [
       "Timestamp('2022-11-21 22:00:00')"
      ]
     },
     "execution_count": 22,
     "metadata": {},
     "output_type": "execute_result"
    }
   ],
   "source": [
    "df.Time.min()"
   ]
  },
  {
   "cell_type": "code",
   "execution_count": 23,
   "id": "5ccb4c91-784e-4a9b-a363-644cb1bf413f",
   "metadata": {},
   "outputs": [
    {
     "data": {
      "text/plain": [
       "Timestamp('2022-12-13 12:00:00')"
      ]
     },
     "execution_count": 23,
     "metadata": {},
     "output_type": "execute_result"
    }
   ],
   "source": [
    "df.Time.max()"
   ]
  },
  {
   "cell_type": "code",
   "execution_count": null,
   "id": "facfd4c1-f817-4ada-beec-eec68f3951f7",
   "metadata": {},
   "outputs": [],
   "source": [
    "df.timestamp.max()"
   ]
  },
  {
   "cell_type": "code",
   "execution_count": null,
   "id": "39c26dd3-362e-4720-b906-dc7557b5b4ec",
   "metadata": {},
   "outputs": [],
   "source": [
    "for i,j in r[1].items():\n",
    "    print(i,j)\n",
    "    "
   ]
  },
  {
   "cell_type": "code",
   "execution_count": null,
   "id": "5cb251e1-a178-47e5-af5a-5323884d4259",
   "metadata": {},
   "outputs": [],
   "source": [
    "import datetime, time\n",
    "import pandas as pd"
   ]
  },
  {
   "cell_type": "code",
   "execution_count": null,
   "id": "ed06b47b-1946-40a3-b374-5086d55120ff",
   "metadata": {},
   "outputs": [],
   "source": []
  },
  {
   "cell_type": "code",
   "execution_count": null,
   "id": "ea846662-290c-4616-bb41-11d9d8ea9ef5",
   "metadata": {},
   "outputs": [],
   "source": [
    "date_time = datetime.datetime(2021, 7, 26, 21, 20)\n",
    "\n",
    "ts = time.mktime(date_time.timetuple())\n",
    "date_time = datetime.datetime(2021, 11, 21, 11, 58)\n",
    "ts = time.mktime(date_time.timetuple())\n",
    "\n",
    "\n",
    "date_time2 = datetime.datetime.fromtimestamp(1669065118) \n",
    "\n",
    "print(date_time, ts, date_time2)"
   ]
  },
  {
   "cell_type": "code",
   "execution_count": null,
   "id": "4c47eed1-29cb-4773-b1d1-7cd71778026c",
   "metadata": {},
   "outputs": [],
   "source": [
    "pd.to_datetime(ts, unit = 's')"
   ]
  },
  {
   "cell_type": "code",
   "execution_count": null,
   "id": "73acd0bd-f950-4fcf-87dd-19020c08de1a",
   "metadata": {},
   "outputs": [],
   "source": [
    "pd.to_datetime(ts1, unit = 's')"
   ]
  },
  {
   "cell_type": "code",
   "execution_count": null,
   "id": "6f3b0033-03e3-4d5b-bbb6-1513eae98ff3",
   "metadata": {},
   "outputs": [],
   "source": [
    "ts1"
   ]
  },
  {
   "cell_type": "code",
   "execution_count": null,
   "id": "fc3b3e1b-7831-4676-a723-b0125491e0ee",
   "metadata": {
    "scrolled": true,
    "tags": []
   },
   "outputs": [],
   "source": [
    "# # %%time\n",
    "date_time = datetime.datetime(2021, 11 , 25, 0, 0)\n",
    "ts = time.mktime(date_time.timetuple())\n",
    "URL = f'https://sensors.inowas.com/sensors/project/DEU1/latest?since={int(ts)}'\n",
    "# request = requests.get(URL).json()\n",
    "\n",
    "# fig = plt.subplots()\n",
    "# df = pd.DataFrame(request)\n",
    "# df.insert(1, 'Date', pd.to_datetime(df['timestamp'], unit='s'))\n",
    "# plt.scatter('Date', 'value', data = df[(df.parameter_name == 'h') > (df.value < -99 )])\n",
    "# plt.xticks(rotation = 45)\n",
    "# plt.title(f'Head for the query {date_time}')\n",
    "# plt.legend()\n",
    "# plt.savefig('test-api.jpeg')\n",
    "# plt.show()\n"
   ]
  },
  {
   "cell_type": "markdown",
   "id": "0dd9dac6-efd4-4efb-b1c7-0c22dbb060b5",
   "metadata": {
    "tags": []
   },
   "source": [
    "### API works for november on, only\n",
    "\n",
    "### We need to test if in December it still gets November os it is only the last month\n",
    "### When I tried on the 25th of november, it only got values until the 25th of October. Now (29/11) it getting from 01/11.\n",
    "## Sum an hour more otherwise it fetches repeated dates"
   ]
  },
  {
   "cell_type": "markdown",
   "id": "786a8ed3-e541-4051-ad60-26ea6ff1ddce",
   "metadata": {
    "jp-MarkdownHeadingCollapsed": true,
    "tags": []
   },
   "source": [
    "## How to Update Table"
   ]
  },
  {
   "cell_type": "code",
   "execution_count": null,
   "id": "40105975-c63e-4646-b280-1f7af47d2e6f",
   "metadata": {},
   "outputs": [],
   "source": [
    "\n",
    "# session.query(db.PointsMeasurements).filter(db.PointsMeasurements.VariableID == 9).\\\n",
    "#     update({'VariableID' : db.PointsMeasurements.VariableID -2})\n",
    "\n",
    "# session.commit()"
   ]
  }
 ],
 "metadata": {
  "kernelspec": {
   "display_name": "Python 3 (ipykernel)",
   "language": "python",
   "name": "python3"
  },
  "language_info": {
   "codemirror_mode": {
    "name": "ipython",
    "version": 3
   },
   "file_extension": ".py",
   "mimetype": "text/x-python",
   "name": "python",
   "nbconvert_exporter": "python",
   "pygments_lexer": "ipython3",
   "version": "3.9.13"
  }
 },
 "nbformat": 4,
 "nbformat_minor": 5
}
