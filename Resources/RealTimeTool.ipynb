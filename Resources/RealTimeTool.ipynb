{
 "cells": [
  {
   "cell_type": "markdown",
   "id": "b0874e57-4d45-4fe9-9a8b-0d33213adb60",
   "metadata": {},
   "source": [
    "# Real-time monitoring tool"
   ]
  },
  {
   "cell_type": "markdown",
   "id": "927075bc-a134-46df-ab61-94e1349c7bff",
   "metadata": {},
   "source": [
    "Here only the functions of the back-end will be developed. Later-on, these functions will be passed into an interactive dashboard"
   ]
  },
  {
   "cell_type": "code",
   "execution_count": 4,
   "id": "d62bfee0-2171-494a-b7d9-a3ff49a1bc3b",
   "metadata": {},
   "outputs": [],
   "source": [
    "import numpy as np\n",
    "import pandas as pd\n",
    "import os\n",
    "import matplotlib.pyplot as plt\n",
    "from scipy.interpolate import griddata\n",
    "from osgeo import gdal\n",
    "import geopandas as gpd\n",
    "from itertools import repeat\n",
    "import folium\n",
    "import rasterio\n",
    "import rioxarray as rxr\n",
    "import xarray as xr"
   ]
  },
  {
   "cell_type": "markdown",
   "id": "d773d41f-d874-4854-8374-eb556e602db7",
   "metadata": {},
   "source": [
    "## 1. Building the fundamentals"
   ]
  },
  {
   "cell_type": "markdown",
   "id": "df08ac47-f7e3-4c9e-92de-8b9f8b9295d7",
   "metadata": {},
   "source": [
    "### 1.1 Importing the database and selecting the dates"
   ]
  },
  {
   "cell_type": "code",
   "execution_count": 8,
   "id": "c3e8955d-74ba-4ff4-9b7d-e5203efadca1",
   "metadata": {},
   "outputs": [
    {
     "data": {
      "text/plain": [
       "['DiverID.csv', 'GWL.csv', 'WellID_edited.csv']"
      ]
     },
     "execution_count": 8,
     "metadata": {},
     "output_type": "execute_result"
    }
   ],
   "source": [
    "os.chdir('D:/Repos/PirnaCaseStudy/Data/Databases')\n",
    "os.listdir()"
   ]
  },
  {
   "cell_type": "code",
   "execution_count": 22,
   "id": "3f4b4c01-95f6-4fca-b97a-dee76ea609e9",
   "metadata": {},
   "outputs": [],
   "source": [
    "gwl_fn , wells_fn = 'GWL.csv', 'WellID_edited.csv'\n",
    "gwl_df , wells_df  = pd.read_csv(gwl_fn) , pd.read_csv(wells_fn)\n",
    "gwl_df['Date'] = pd.to_datetime (gwl_df['Date']).dt.date"
   ]
  },
  {
   "cell_type": "code",
   "execution_count": 17,
   "id": "08f42b67-7573-4ef2-8950-ac6ca487794d",
   "metadata": {},
   "outputs": [
    {
     "data": {
      "text/html": [
       "<div>\n",
       "<style scoped>\n",
       "    .dataframe tbody tr th:only-of-type {\n",
       "        vertical-align: middle;\n",
       "    }\n",
       "\n",
       "    .dataframe tbody tr th {\n",
       "        vertical-align: top;\n",
       "    }\n",
       "\n",
       "    .dataframe thead th {\n",
       "        text-align: right;\n",
       "    }\n",
       "</style>\n",
       "<table border=\"1\" class=\"dataframe\">\n",
       "  <thead>\n",
       "    <tr style=\"text-align: right;\">\n",
       "      <th></th>\n",
       "      <th>WellID</th>\n",
       "      <th>CaseHeight</th>\n",
       "      <th>Type</th>\n",
       "      <th>Diameter</th>\n",
       "      <th>Depth</th>\n",
       "      <th>FilterTop</th>\n",
       "      <th>FilterBase</th>\n",
       "      <th>E</th>\n",
       "      <th>N</th>\n",
       "    </tr>\n",
       "  </thead>\n",
       "  <tbody>\n",
       "    <tr>\n",
       "      <th>0</th>\n",
       "      <td>G01</td>\n",
       "      <td>119.49</td>\n",
       "      <td>Well</td>\n",
       "      <td>1.0</td>\n",
       "      <td>14.0</td>\n",
       "      <td>1.0</td>\n",
       "      <td>13.0</td>\n",
       "      <td>13.922657</td>\n",
       "      <td>50.965827</td>\n",
       "    </tr>\n",
       "    <tr>\n",
       "      <th>1</th>\n",
       "      <td>G02</td>\n",
       "      <td>118.83</td>\n",
       "      <td>Drilling</td>\n",
       "      <td>1.0</td>\n",
       "      <td>14.0</td>\n",
       "      <td>NaN</td>\n",
       "      <td>NaN</td>\n",
       "      <td>13.922918</td>\n",
       "      <td>50.965820</td>\n",
       "    </tr>\n",
       "    <tr>\n",
       "      <th>2</th>\n",
       "      <td>G03</td>\n",
       "      <td>118.73</td>\n",
       "      <td>Drilling</td>\n",
       "      <td>1.0</td>\n",
       "      <td>14.0</td>\n",
       "      <td>NaN</td>\n",
       "      <td>NaN</td>\n",
       "      <td>13.923160</td>\n",
       "      <td>50.965840</td>\n",
       "    </tr>\n",
       "    <tr>\n",
       "      <th>3</th>\n",
       "      <td>G04</td>\n",
       "      <td>119.19</td>\n",
       "      <td>Well</td>\n",
       "      <td>1.0</td>\n",
       "      <td>14.0</td>\n",
       "      <td>1.0</td>\n",
       "      <td>13.0</td>\n",
       "      <td>13.923426</td>\n",
       "      <td>50.965848</td>\n",
       "    </tr>\n",
       "    <tr>\n",
       "      <th>4</th>\n",
       "      <td>G04neu</td>\n",
       "      <td>120.09</td>\n",
       "      <td>Well</td>\n",
       "      <td>1.0</td>\n",
       "      <td>14.0</td>\n",
       "      <td>6.0</td>\n",
       "      <td>13.0</td>\n",
       "      <td>13.923416</td>\n",
       "      <td>50.965847</td>\n",
       "    </tr>\n",
       "  </tbody>\n",
       "</table>\n",
       "</div>"
      ],
      "text/plain": [
       "   WellID CaseHeight      Type  Diameter  Depth  FilterTop  FilterBase  \\\n",
       "0     G01     119.49      Well       1.0   14.0        1.0        13.0   \n",
       "1     G02     118.83  Drilling       1.0   14.0        NaN         NaN   \n",
       "2     G03     118.73  Drilling       1.0   14.0        NaN         NaN   \n",
       "3     G04     119.19      Well       1.0   14.0        1.0        13.0   \n",
       "4  G04neu     120.09      Well       1.0   14.0        6.0        13.0   \n",
       "\n",
       "           E          N  \n",
       "0  13.922657  50.965827  \n",
       "1  13.922918  50.965820  \n",
       "2  13.923160  50.965840  \n",
       "3  13.923426  50.965848  \n",
       "4  13.923416  50.965847  "
      ]
     },
     "execution_count": 17,
     "metadata": {},
     "output_type": "execute_result"
    }
   ],
   "source": [
    "wells_df.head()"
   ]
  },
  {
   "cell_type": "markdown",
   "id": "6830cb52-ef58-415b-ac87-ffe586fb113a",
   "metadata": {},
   "source": [
    "Indexing below. \n",
    "In the future, when we build the databases, we will need to create a database for variables and IDs.\n",
    "\n",
    "**Ideas for database**\n",
    "\n",
    "1. WellID = already existent. Gives an ID (integer) to each well. Contains every information about the well.\n",
    "    * Add river point\n",
    "2. DiverID = Non-existent. Gives an ID to each diver.\n",
    "    * It should contain:\n",
    "        * Company's name\n",
    "            * That will be a proxy to activate the formula to convert readings into heads\n",
    "3. WellDiver = Connects Divers to Wells \n",
    "    * Important for filling the database\n",
    "    * Every diver present here is activated\n",
    "    * It should contain:\n",
    "        * The diver depth\n",
    "        * Manual or non-manual reading    \n",
    "4. GWL = Already existent. Register readings. Need to replace WellID for ID from WellID table.\n",
    "    * Add river point\n",
    "\n",
    "**Find an user-friendly solution for INOWAS to edit the database**"
   ]
  },
  {
   "cell_type": "markdown",
   "id": "9a499472-c4c6-45c0-91b5-cbf5577cca10",
   "metadata": {},
   "source": [
    "**Indexing**: \n",
    "\n",
    "Below we define the objects to select the date. The user will be able to select it from the dashboard"
   ]
  },
  {
   "cell_type": "code",
   "execution_count": 105,
   "id": "6bf188e5-39b6-4d62-8a8c-17d91c9f42bd",
   "metadata": {},
   "outputs": [],
   "source": [
    "#user input\n",
    "Date = '04/02/2021'\n",
    "Hour = 1\n",
    "Variable = 0"
   ]
  },
  {
   "cell_type": "code",
   "execution_count": 106,
   "id": "83e63f6f-1415-4c08-badb-0af66d30d7fb",
   "metadata": {},
   "outputs": [
    {
     "data": {
      "text/html": [
       "<div>\n",
       "<style scoped>\n",
       "    .dataframe tbody tr th:only-of-type {\n",
       "        vertical-align: middle;\n",
       "    }\n",
       "\n",
       "    .dataframe tbody tr th {\n",
       "        vertical-align: top;\n",
       "    }\n",
       "\n",
       "    .dataframe thead th {\n",
       "        text-align: right;\n",
       "    }\n",
       "</style>\n",
       "<table border=\"1\" class=\"dataframe\">\n",
       "  <thead>\n",
       "    <tr style=\"text-align: right;\">\n",
       "      <th></th>\n",
       "      <th>WellID</th>\n",
       "      <th>Head</th>\n",
       "      <th>E</th>\n",
       "      <th>N</th>\n",
       "    </tr>\n",
       "  </thead>\n",
       "  <tbody>\n",
       "    <tr>\n",
       "      <th>0</th>\n",
       "      <td>G01</td>\n",
       "      <td>9.259000</td>\n",
       "      <td>13.922657</td>\n",
       "      <td>50.965827</td>\n",
       "    </tr>\n",
       "    <tr>\n",
       "      <th>1</th>\n",
       "      <td>G10</td>\n",
       "      <td>9.038000</td>\n",
       "      <td>13.923311</td>\n",
       "      <td>50.966071</td>\n",
       "    </tr>\n",
       "    <tr>\n",
       "      <th>2</th>\n",
       "      <td>G11</td>\n",
       "      <td>6.711000</td>\n",
       "      <td>13.923868</td>\n",
       "      <td>50.965732</td>\n",
       "    </tr>\n",
       "    <tr>\n",
       "      <th>3</th>\n",
       "      <td>G12</td>\n",
       "      <td>6.339000</td>\n",
       "      <td>13.923290</td>\n",
       "      <td>50.965675</td>\n",
       "    </tr>\n",
       "    <tr>\n",
       "      <th>4</th>\n",
       "      <td>G13</td>\n",
       "      <td>6.760000</td>\n",
       "      <td>13.922816</td>\n",
       "      <td>50.965641</td>\n",
       "    </tr>\n",
       "    <tr>\n",
       "      <th>5</th>\n",
       "      <td>G17</td>\n",
       "      <td>5.501000</td>\n",
       "      <td>13.923634</td>\n",
       "      <td>50.965507</td>\n",
       "    </tr>\n",
       "    <tr>\n",
       "      <th>6</th>\n",
       "      <td>G19</td>\n",
       "      <td>5.331000</td>\n",
       "      <td>13.923159</td>\n",
       "      <td>50.965430</td>\n",
       "    </tr>\n",
       "    <tr>\n",
       "      <th>7</th>\n",
       "      <td>G23</td>\n",
       "      <td>8.827000</td>\n",
       "      <td>13.922428</td>\n",
       "      <td>50.966182</td>\n",
       "    </tr>\n",
       "    <tr>\n",
       "      <th>8</th>\n",
       "      <td>GWM2</td>\n",
       "      <td>110.300003</td>\n",
       "      <td>13.923774</td>\n",
       "      <td>50.965905</td>\n",
       "    </tr>\n",
       "    <tr>\n",
       "      <th>9</th>\n",
       "      <td>GWM3</td>\n",
       "      <td>110.199997</td>\n",
       "      <td>13.923764</td>\n",
       "      <td>50.965858</td>\n",
       "    </tr>\n",
       "    <tr>\n",
       "      <th>10</th>\n",
       "      <td>GWM5</td>\n",
       "      <td>110.620003</td>\n",
       "      <td>13.923778</td>\n",
       "      <td>50.965812</td>\n",
       "    </tr>\n",
       "    <tr>\n",
       "      <th>11</th>\n",
       "      <td>GWM6</td>\n",
       "      <td>110.330000</td>\n",
       "      <td>13.923829</td>\n",
       "      <td>50.965826</td>\n",
       "    </tr>\n",
       "  </tbody>\n",
       "</table>\n",
       "</div>"
      ],
      "text/plain": [
       "   WellID        Head          E          N\n",
       "0     G01    9.259000  13.922657  50.965827\n",
       "1     G10    9.038000  13.923311  50.966071\n",
       "2     G11    6.711000  13.923868  50.965732\n",
       "3     G12    6.339000  13.923290  50.965675\n",
       "4     G13    6.760000  13.922816  50.965641\n",
       "5     G17    5.501000  13.923634  50.965507\n",
       "6     G19    5.331000  13.923159  50.965430\n",
       "7     G23    8.827000  13.922428  50.966182\n",
       "8    GWM2  110.300003  13.923774  50.965905\n",
       "9    GWM3  110.199997  13.923764  50.965858\n",
       "10   GWM5  110.620003  13.923778  50.965812\n",
       "11   GWM6  110.330000  13.923829  50.965826"
      ]
     },
     "execution_count": 106,
     "metadata": {},
     "output_type": "execute_result"
    }
   ],
   "source": [
    "Date = pd.to_datetime('01/17/2022').date()\n",
    "\n",
    "dates_df = gwl_df.loc[(gwl_df.Date == Date)\n",
    "                      & (gwl_df.Hour == Hour)\n",
    "                      & (gwl_df.Variable == Variable)\n",
    "                     ].dropna().reset_index()\n",
    "#merging coordinates to dataset\n",
    "\n",
    "dates_df = pd.merge(dates_df, wells_df[['WellID', 'E', 'N']],\n",
    "              on = 'WellID'\n",
    "             ).drop(columns=['Variable','Hour','Date', 'index'])\n",
    "dates_df"
   ]
  },
  {
   "cell_type": "markdown",
   "id": "6d60e36d-8ef2-48f1-b7e5-f9f54b9f41f6",
   "metadata": {},
   "source": [
    "### 1.2 Building the interpolation tool"
   ]
  },
  {
   "cell_type": "markdown",
   "id": "58be33ff-9700-4d98-9779-912e73431359",
   "metadata": {},
   "source": [
    "Store one value of river reading and build a function here to create several points along the river"
   ]
  },
  {
   "cell_type": "code",
   "execution_count": 107,
   "id": "9b201693-d2fd-4a04-8c17-0f87dcc79110",
   "metadata": {},
   "outputs": [],
   "source": [
    "points = np.array(dates_df[['E','N']])\n",
    "values = np.array(dates_df.Head)\n",
    "\n",
    "minx, maxx = dates_df.E.min(), dates_df.E.max()\n",
    "miny, maxy =  dates_df.N.min(), dates_df.N.max()\n",
    "\n",
    "grid_x, grid_y = np.mgrid[minx:maxx:50j, miny:maxy:50j]\n",
    "\n",
    "\n",
    "grid_z0 = griddata(points, values, (grid_x, grid_y), method='nearest')\n",
    "\n",
    "grid_z1 = griddata(points, values, (grid_x, grid_y), method='linear')\n",
    "\n",
    "grid_z2 = griddata(points, values, (grid_x, grid_y), method='cubic')"
   ]
  },
  {
   "cell_type": "code",
   "execution_count": 108,
   "id": "291a9287-0d40-4dbe-a872-c64a5f95eaef",
   "metadata": {},
   "outputs": [],
   "source": [
    "grid_z0 = griddata(points, values, (grid_x, grid_y), method='nearest')\n",
    "\n",
    "grid_z1 = griddata(points, values, (grid_x, grid_y), method='linear')\n",
    "\n",
    "grid_z2 = griddata(points, values, (grid_x, grid_y), method='cubic')"
   ]
  },
  {
   "cell_type": "code",
   "execution_count": 109,
   "id": "72f485a0-d53d-4db9-a748-0e2731040603",
   "metadata": {},
   "outputs": [
    {
     "data": {
      "image/png": "[encoded data removed]",
      "text/plain": [
       "<Figure size 600x600 with 3 Axes>"
      ]
     },
     "metadata": {},
     "output_type": "display_data"
    }
   ],
   "source": [
    "plt.subplot(211)\n",
    "plt.imshow(grid_z0.T, extent=(0,1,0,1), origin='lower')\n",
    "plt.title('Nearest')\n",
    "plt.subplot(223)\n",
    "plt.imshow(grid_z1.T, extent=(0,1,0,1), origin='lower')\n",
    "plt.title('Linear')\n",
    "plt.subplot(224)\n",
    "plt.imshow(grid_z2.T, extent=(0,1,0,1), origin='lower')\n",
    "plt.title('Cubic')\n",
    "plt.gcf().set_size_inches(6, 6)\n",
    "plt.show()"
   ]
  },
  {
   "cell_type": "markdown",
   "id": "52f8d994-256a-46e0-86eb-d8031f2e7d76",
   "metadata": {},
   "source": [
    "**Here Zhao recommended to do use linear interpolation**"
   ]
  },
  {
   "cell_type": "markdown",
   "id": "9a905f62-4493-4aeb-8c14-899bc5983d91",
   "metadata": {},
   "source": [
    "## 2. Update the database"
   ]
  },
  {
   "cell_type": "markdown",
   "id": "92042669-bf7c-41e3-ac42-f16d3a6f67bf",
   "metadata": {},
   "source": [
    "Here we need to check the API file and send request data river and groundwater data from the cloud to fill the database with the missing dates. When setting-up the dashboard, this will be a separate function."
   ]
  }
 ],
 "metadata": {
  "kernelspec": {
   "display_name": "Python 3 (ipykernel)",
   "language": "python",
   "name": "python3"
  },
  "language_info": {
   "codemirror_mode": {
    "name": "ipython",
    "version": 3
   },
   "file_extension": ".py",
   "mimetype": "text/x-python",
   "name": "python",
   "nbconvert_exporter": "python",
   "pygments_lexer": "ipython3",
   "version": "3.9.13"
  }
 },
 "nbformat": 4,
 "nbformat_minor": 5
}
