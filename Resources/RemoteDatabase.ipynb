{
 "cells": [
  {
   "cell_type": "markdown",
   "id": "a7a58c70-c9d8-462c-82a4-9ac7d5fc5b17",
   "metadata": {},
   "source": [
    "# Connecting with Remote Database"
   ]
  }
 ],
 "metadata": {
  "kernelspec": {
   "display_name": "Python 3 (ipykernel)",
   "language": "python",
   "name": "python3"
  },
  "language_info": {
   "codemirror_mode": {
    "name": "ipython",
    "version": 3
   },
   "file_extension": ".py",
   "mimetype": "text/x-python",
   "name": "python",
   "nbconvert_exporter": "python",
   "pygments_lexer": "ipython3",
   "version": "3.9.13"
  }
 },
 "nbformat": 4,
 "nbformat_minor": 5
}
