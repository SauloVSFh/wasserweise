{
 "cells": [
  {
   "cell_type": "code",
   "execution_count": 15,
   "id": "b23ad3c1",
   "metadata": {},
   "outputs": [],
   "source": [
    "import sys \n",
    "\n",
    "'''\n",
    "ignore __pycache__\n",
    "add path to repo\n",
    "'''\n",
    "sys.dont_write_bytecode = True\n",
    "\n",
    "import os\n",
    "import pandas as pd\n",
    "import numpy as np\n",
    "from datetime import timedelta\n",
    "import panel as pn\n",
    "pn.extension('tabulator', sizing_mode=\"stretch_width\")\n",
    "import hvplot.pandas\n",
    "\n",
    "import warnings\n",
    "warnings.filterwarnings('ignore')\n",
    "\n",
    "path = 'D:\\Repos\\PirnaCaseStudy'\n",
    "sys.path.append(path)\n",
    "import SMARTControl as sc\n",
    "import git\n",
    "\n",
    "import streamlit as st\n",
    "from streamlit_folium import st_folium as stf"
   ]
  },
  {
   "cell_type": "code",
   "execution_count": 7,
   "id": "c76d0dc7",
   "metadata": {},
   "outputs": [],
   "source": [
    "os.chdir(path)\n",
    "database_fn = 'Data/Database.db'\n",
    "Get = sc.queries.Get(database_fn)"
   ]
  },
  {
   "cell_type": "code",
   "execution_count": 8,
   "id": "35d54ff1",
   "metadata": {},
   "outputs": [],
   "source": [
    "'''\n",
    "Querying the database\n",
    "'''\n",
    "\n",
    "MonitoringPointData_df = Get.MonitoringPointData(GageData = 1)\n",
    "GageData_df = Get.GageData\n",
    "\n",
    "# First and last date\n",
    "start, end = Get.StartEndDate ()\n",
    "\n",
    "#All variables \n",
    "Variables_df = Get.Table('Variables')\n",
    "\n",
    "#Hydraulic heads\n",
    "Get.LongTimeSeries(0)\n",
    "df = Get.LongTimeSeries_df.copy()\n",
    "df = df.set_index('Date')\n",
    "\n",
    "#River data\n",
    "Get.ShortTimeSeries(7, 'RG')\n",
    "r_df = Get.ShortTimeSeries_df.copy()\n",
    "r_df = r_df.set_index('Date')"
   ]
  },
  {
   "cell_type": "code",
   "execution_count": 12,
   "id": "866bf32a",
   "metadata": {},
   "outputs": [],
   "source": [
    "map_gdf, river_gage_gdf = sc.utils.prepare_query (Get, '2022-12-12')\n",
    "\n",
    "\n",
    "grid_x_gcs , grid_y_gcs , grid_z_gcs, U , V = sc.utils.Interpolation_Gradient (map_gdf , crs_utm = 25833 ,\n",
    "                                                                                pixel_size = 10)\n",
    "\n",
    "x = grid_x_gcs\n",
    "y = grid_y_gcs\n",
    "\n",
    "arrows_df = sc.utils.arrow_head (grid_x_gcs , grid_y_gcs , grid_z_gcs, U , V , scale = 10)\n",
    "df = arrows_df [ arrows_df.index.isin( np.arange(0 ,\n",
    "                                                  arrows_df.shape[0],\n",
    "                                                  2\n",
    "                                                )\n",
    "                                      )\n",
    "                ].reset_index (drop = True)\n",
    "\n",
    "\n",
    "\n",
    "Map = sc.utils.Folium_map(Get)\n",
    "\n",
    "Map_contour = sc.utils.Folium_contour ( \n",
    "\n",
    "    Map , map_gdf , river_gage_gdf , \n",
    "    grid_x_gcs , grid_y_gcs , grid_z_gcs\n",
    "\n",
    "                                      )\n",
    "\n",
    "# arrows_df\n",
    "Map = sc.utils.Folium_arrows(Map_contour , df )"
   ]
  },
  {
   "cell_type": "code",
   "execution_count": 27,
   "id": "c3771c2b",
   "metadata": {},
   "outputs": [
    {
     "data": {
      "text/plain": [
       "{'last_clicked': None,\n",
       " 'last_object_clicked': None,\n",
       " 'all_drawings': None,\n",
       " 'last_active_drawing': None,\n",
       " 'bounds': {'_southWest': {'lat': 50.96458617, 'lng': 13.92186},\n",
       "  '_northEast': {'lat': 50.96652906, 'lng': 13.92975382}},\n",
       " 'zoom': 17,\n",
       " 'last_circle_radius': None,\n",
       " 'last_circle_polygon': None}"
      ]
     },
     "execution_count": 27,
     "metadata": {},
     "output_type": "execute_result"
    }
   ],
   "source": [
    "st.title('test')\n",
    "m = stf(Map, width = 300)"
   ]
  },
  {
   "cell_type": "code",
   "execution_count": null,
   "id": "54630bea",
   "metadata": {},
   "outputs": [],
   "source": []
  }
 ],
 "metadata": {
  "kernelspec": {
   "display_name": "Python 3 (ipykernel)",
   "language": "python",
   "name": "python3"
  },
  "language_info": {
   "codemirror_mode": {
    "name": "ipython",
    "version": 3
   },
   "file_extension": ".py",
   "mimetype": "text/x-python",
   "name": "python",
   "nbconvert_exporter": "python",
   "pygments_lexer": "ipython3",
   "version": "3.9.13"
  }
 },
 "nbformat": 4,
 "nbformat_minor": 5
}
