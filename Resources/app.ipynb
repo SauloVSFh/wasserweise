{
 "cells": [
  {
   "cell_type": "code",
   "execution_count": 35,
   "id": "120398cb-9b1d-4f31-b60e-f3dbc0fd76db",
   "metadata": {},
   "outputs": [
    {
     "name": "stdout",
     "output_type": "stream",
     "text": [
      "Wall time: 116 ms\n"
     ]
    }
   ],
   "source": [
    "%%time\n",
    "import os\n",
    "import time\n",
    "import sys \n",
    "import pandas as pd\n",
    "import geopandas as gpd\n",
    "import numpy as np\n",
    "import xarray as xr\n",
    "from datetime import datetime\n",
    "from datetime import timedelta\n",
    "from scipy.interpolate import griddata\n",
    "\n",
    "import panel as pn\n",
    "import bokeh\n",
    "\n",
    "# pn.extension('tabulator')\n",
    "pn.extension('tabulator', sizing_mode=\"stretch_width\")\n",
    "\n",
    "import holoviews as hv\n",
    "import hvplot.pandas\n",
    "import hvplot.xarray\n",
    "# hv.extension('bokeh')\n",
    "\n",
    "import colorcet as cc\n",
    "from colorcet.plotting import swatch, swatches\n",
    "\n",
    "import warnings\n",
    "warnings.filterwarnings('ignore')\n",
    "\n",
    "path = 'D:\\Repos\\PirnaCaseStudy'\n",
    "sys.path.append(path)\n",
    "import SMARTControl as sc"
   ]
  },
  {
   "cell_type": "markdown",
   "id": "779c17da-5ce9-43ba-b0d2-9ef30bb3fb22",
   "metadata": {
    "jp-MarkdownHeadingCollapsed": true,
    "tags": []
   },
   "source": [
    "## 1. Dashboard color pallete"
   ]
  },
  {
   "cell_type": "markdown",
   "id": "2a589bb1-d340-43e2-8d5d-6e4c7e873843",
   "metadata": {
    "tags": []
   },
   "source": [
    "## 2. Querying"
   ]
  },
  {
   "cell_type": "code",
   "execution_count": 2,
   "id": "f4d6e217-0894-43d8-b23e-00d6e8d03f6c",
   "metadata": {},
   "outputs": [
    {
     "name": "stdout",
     "output_type": "stream",
     "text": [
      "Wall time: 0 ns\n"
     ]
    }
   ],
   "source": [
    "%%time\n",
    "\n",
    "os.chdir(path)\n",
    "database_fn = 'Data/Database.db'\n",
    "\n",
    "Get = sc.queries.Get(database_fn)"
   ]
  },
  {
   "cell_type": "code",
   "execution_count": 3,
   "id": "7531d3d1-55bf-41a3-97d7-ebb956ab7cf6",
   "metadata": {},
   "outputs": [],
   "source": [
    "'''\n",
    "Querying the database\n",
    "'''\n",
    "\n",
    "MonitoringPointData_df = Get.MonitoringPointData(GageData = 1)\n",
    "GageData_df = Get.GageData\n",
    "\n",
    "# First and last date\n",
    "start, end = Get.StartEndDate ()\n",
    "\n",
    "#All variables \n",
    "Variables_df = Get.Table('Variables')\n",
    "\n",
    "#Hydraulic heads\n",
    "Get.LongTimeSeries(0)\n",
    "df = Get.LongTimeSeries_df.copy()\n",
    "df = df.set_index('Date')\n",
    "\n",
    "#River data\n",
    "Get.ShortTimeSeries(7, 'RG')\n",
    "r_df = Get.ShortTimeSeries_df.copy()\n",
    "r_df = r_df.set_index('Date')\n",
    "\n",
    "# Check if HydroPlot goes and add it here\n",
    "Get.HydroProfile()\n",
    "HydroProfile_df = Get.HydroProfile_df.copy()\n",
    "HydroProfile_df.columns = [\n",
    "    'ID', 'PointID', 'DrillName', 'TestType', 'Unit', 'Depth', 'DrillDepth','MonitoringPoint', 'Value', 'E', 'N'\n",
    "]"
   ]
  },
  {
   "cell_type": "markdown",
   "id": "7bbaef7c",
   "metadata": {},
   "source": [
    "### 2.1 Preparing Data"
   ]
  },
  {
   "cell_type": "code",
   "execution_count": 4,
   "id": "4eac02dc-91f2-40d1-9512-6367201620af",
   "metadata": {},
   "outputs": [],
   "source": [
    "#handling log\n",
    "HydroProfile_df.Depth *= -1\n",
    "HydroProfile_df.Value = np.where(HydroProfile_df.Value < 0, 0, HydroProfile_df.Value)\n",
    "# HydroProfile_df.Value  = np.log10 (HydroProfile_df.Value)    \n",
    "\n",
    "plot_df = HydroProfile_df [\n",
    "    (HydroProfile_df.TestType.isin (['EC logs', 'DPIL']))\n",
    "].reset_index(drop = True)  \n",
    "\n",
    "#Dataframe of interpreted layers\n",
    "layers_df = pd.DataFrame({\n",
    "    \"Drill\"   : [\n",
    "        'D-G01', 'D-G02', 'D-G03', 'D-G05', 'D-G10', 'D-G11', \n",
    "        'D-G12', 'D-G13', 'D-G15','D-G17', 'D-G19', 'D-G21'\n",
    "    ],\n",
    "    \"Landfill\": [-3.0, -3.0 ,-3.0 ,-3.0 ,-3.0 , 0.0,  0.0,  0.0 , 0.0,  0.0,  0.0,  0.0],\n",
    "    \"Layer 1\": [-3.7, -3.7,- 3.8, -4.0, -2.9, -4.0, -4.3, -3.5, -4.0, -4.2, -4.0, -3.9],\n",
    "    \"Layer 2\": [-2.2, -3.1, -3.2, -3.3, -4.8, -4.0, -3.0, -3.8, -3.7, -3.3, -3.1, -2.9],\n",
    "    \"Layer 3\": [-3.1, -3.2, -2.9, -2.9, -2.2, -4.1, -4.6, -4.8, -4.5, -4.0, -4.7, -3.4],\n",
    "    \"Layer 4\": [-2.0, -1.0, -1.1, -0.8, -1.1, -1.9, -2.1, -1.9, -1.8, -2.5, -2.2, -0.0]})"
   ]
  },
  {
   "cell_type": "markdown",
   "id": "37d51c3f-a246-474b-9439-b3282c6dcb72",
   "metadata": {
    "tags": []
   },
   "source": [
    "## 3. Widgets"
   ]
  },
  {
   "cell_type": "code",
   "execution_count": 5,
   "id": "f9a3b771-a725-4477-bbca-6e24b9e38e18",
   "metadata": {},
   "outputs": [],
   "source": [
    "'''\n",
    "\n",
    "Widgets\n",
    "\n",
    "'''\n",
    "\n",
    "#Map\n",
    "value = end - timedelta(days=2) \n",
    "date_wid = pn.widgets.DatetimePicker(name='Date and time', start=start , end = end, value = value)\n",
    "scalearrows_wid = pn.widgets.IntSlider(start = 10, end = 500 , step = 20, value = 250,\n",
    "                                      name='Sizing arrows'\n",
    "                                      )\n",
    "\n",
    "\n",
    "#Scatter\n",
    "wells_list = list(df.Name.unique())\n",
    "wells_wid = pn.widgets.Select (name = 'Well', options = wells_list, value = wells_list[0])\n",
    "\n",
    "#HydroProfile\n",
    "drills_wid = pn.widgets.Select(name='Drill Name', options = list(HydroProfile_df.DrillName.unique()))\n"
   ]
  },
  {
   "cell_type": "code",
   "execution_count": 6,
   "id": "5e352690-061d-4770-a829-515513306898",
   "metadata": {},
   "outputs": [],
   "source": [
    "# df_ = pd.concat ([df, r_df]) #append rain gage and well data\n",
    "\n",
    "# # df_ =  df_.sample(n=1000)\n",
    "# rg = r_df.MonitoringPointName.unique()[0]\n",
    "\n",
    "# ts_dfi = df_.interactive()\n",
    "\n",
    "# ts_ipipeline = (\n",
    "#     ts_dfi[\n",
    "#         ts_dfi.Name.isin ([wells_wid, r_df.MonitoringPointName.unique()[0]])\n",
    "#     ]\n",
    "# )"
   ]
  },
  {
   "cell_type": "markdown",
   "id": "d671f203-30be-4522-80d6-821a2809bfd8",
   "metadata": {
    "tags": []
   },
   "source": [
    "## 4. Plots"
   ]
  },
  {
   "cell_type": "markdown",
   "id": "f9481ff3-ecc9-401a-9220-2eac147002d4",
   "metadata": {
    "tags": []
   },
   "source": [
    "### 4.1 Time series"
   ]
  },
  {
   "cell_type": "code",
   "execution_count": 7,
   "id": "bb4d0c5f-3c46-4846-b13d-dc947bd39ed4",
   "metadata": {},
   "outputs": [],
   "source": [
    "\n",
    "'''\n",
    "\n",
    "Time Series\n",
    "\n",
    "'''                                      \n",
    "PALETTE = [\"#00CED1\", \"#006400\"]\n",
    "\n",
    "    \n",
    "g_df = df.groupby(['Name', pd.Grouper(freq='D')])['Value'].mean().to_frame().reset_index()\n",
    "gr_df = r_df.groupby(['MonitoringPointName', pd.Grouper(freq='D')])['Value'].mean().to_frame().reset_index()\n",
    "g_df = pd.concat ([g_df, gr_df])\n",
    "\n",
    "\n",
    "\n",
    "def iTS (wells_wid):\n",
    "\n",
    "    g1_df = g_df [\n",
    "        g_df.Name == wells_wid\n",
    "    ].reset_index(drop = True)  \n",
    "    \n",
    "    \n",
    "    return g1_df\n",
    "\n",
    "iBindTS = hvplot.bind(iTS, wells_wid).interactive()\n",
    "\n",
    "iScatterTS = iBindTS.hvplot.scatter(\n",
    "    x = 'Date', y = 'Value',\n",
    "    label = 'Diver Data',\n",
    "    width = 1400, alpha = 0.4, grid = True, size = 50,\n",
    "    ylabel = 'Hydraulic head (m)', xlabel = 'Time',\n",
    "    color = 'aqua', legend = True,\n",
    "                            )\n",
    "\n",
    "scatter_rg = gr_df.hvplot.scatter(\n",
    "    x='Date', y='Value',\n",
    "    ylabel = '[m]',\n",
    "    xlabel = 'Date', \n",
    "    size = 50, \n",
    "    width = 1400,\n",
    "    height =500,\n",
    "    color = 'green',\n",
    "    label = \"River Data\",\n",
    "    alpha = 0.4, grid = True,\n",
    "    clabel = 'River head'\n",
    "                                )\n",
    "\n",
    "iScatterTS =  scatter_rg *iScatterTS"
   ]
  },
  {
   "cell_type": "markdown",
   "id": "1b840889-a416-42f2-8e31-c10162c2973b",
   "metadata": {
    "tags": []
   },
   "source": [
    "### 4.2 Map"
   ]
  },
  {
   "cell_type": "code",
   "execution_count": 79,
   "id": "d1f225b0",
   "metadata": {},
   "outputs": [],
   "source": [
    "height = 600\n",
    "min_width = 700\n",
    "max_width = 1400"
   ]
  },
  {
   "cell_type": "code",
   "execution_count": 80,
   "id": "c428e0f9-751f-4f31-9ea4-51b7b21d8295",
   "metadata": {},
   "outputs": [],
   "source": [
    "'''\n",
    "\n",
    "MAP\n",
    "\n",
    "'''\n",
    "\n",
    "\n",
    "text=  pn.pane.Markdown ('''\n",
    "        # <center>Not enough data on this date</center>\n",
    "        <br>\n",
    "        ''',align = 'center', style = {'font-size' : '1.5em'})\n",
    "\n",
    "\n",
    "def iPlot (date_wid, scalearrows_wid):\n",
    "    \n",
    "    try :\n",
    "    \n",
    "        map_gdf, river_gage_gdf = sc.utils.prepare_query (Get, date_wid )\n",
    "\n",
    "\n",
    "\n",
    "        grid_x_gcs , grid_y_gcs , grid_z_gcs, U , V = sc.utils.Interpolation_Gradient (map_gdf , crs_utm = 25833 ,\n",
    "                                                                                        pixel_size = 10)\n",
    "\n",
    "        x = grid_x_gcs\n",
    "        y = grid_y_gcs\n",
    "\n",
    "        arrows_df = sc.utils.arrow_head (grid_x_gcs , grid_y_gcs , grid_z_gcs, U , V , scale = scalearrows_wid)\n",
    "        df = arrows_df [ arrows_df.index.isin( np.arange(0 ,\n",
    "                                                          arrows_df.shape[0],\n",
    "                                                          2\n",
    "                                                        )\n",
    "                                              )\n",
    "                        ].reset_index (drop = True)\n",
    "\n",
    "\n",
    "\n",
    "        Map = sc.utils.Folium_map(Get)\n",
    "\n",
    "        Map_contour = sc.utils.Folium_contour ( \n",
    "\n",
    "            Map , map_gdf , river_gage_gdf , \n",
    "            grid_x_gcs , grid_y_gcs , grid_z_gcs\n",
    "\n",
    "                                              )\n",
    "\n",
    "        # arrows_df\n",
    "        Map = sc.utils.Folium_arrows(Map_contour , df )\n",
    "\n",
    "        return pn.pane.plot.Folium(Map, height = height,\n",
    "                                   \n",
    "                                  )\n",
    "    \n",
    "    except Exception:\n",
    "        \n",
    "        return text\n",
    "\n",
    "iMap = pn.bind(iPlot, date_wid, scalearrows_wid)"
   ]
  },
  {
   "cell_type": "markdown",
   "id": "995dddcb",
   "metadata": {},
   "source": [
    "### 4.3 Aquifer characterization"
   ]
  },
  {
   "cell_type": "code",
   "execution_count": 81,
   "id": "818f9471",
   "metadata": {},
   "outputs": [],
   "source": [
    "'''\n",
    "\n",
    "Aquifer Characterization\n",
    "\n",
    "'''\n",
    "\n",
    "\n",
    "def iHPV(drills_wid):\n",
    "    df =  plot_df [\n",
    "        (plot_df.DrillName == drills_wid)\n",
    "    ].reset_index(drop = True)  \n",
    "        \n",
    "    if df.shape[0] == 0:\n",
    "        md=  pn.pane.Markdown ('''\n",
    "        ### <center>No data for this drill</center>\n",
    "        <br>\n",
    "        ''',align = 'center', style = {'font-size' : '1.5em'})\n",
    "        \n",
    "        return pn.Row(md, width = 600)\n",
    "    else:\n",
    "        df = df.replace(['EC logs', 'DPIL'], ['EC [mS/m]', 'Kr-DPIL[l/h*bar]'])\n",
    "        df = df.rename (columns = {\"TestType\" : \"Variable\"})\n",
    "        \n",
    "        iLineHP = df.hvplot.line(\n",
    "            x = 'Value',\n",
    "            y = 'Depth',\n",
    "            by = 'Variable',\n",
    "            alpha = 1,\n",
    "            logx = True,\n",
    "            grid = True,\n",
    "            ylabel = 'Depth (m)', \n",
    "            xlabel = 'Log',\n",
    "            legend = True,\n",
    "            ylim = [df.Depth.min() - 2,1],\n",
    "            height = height,\n",
    "            width = 600\n",
    "    )\n",
    "\n",
    "        return iLineHP\n",
    "\n",
    "    \n",
    "#function for hydro stratigraphic layer\n",
    "def iHPL(drills_wid): \n",
    "    \n",
    "    df =  plot_df [\n",
    "        (plot_df.DrillName == drills_wid)\n",
    "    ].reset_index(drop = True)  \n",
    "\n",
    "    df_ = layers_df [\n",
    "        (layers_df.Drill== drills_wid)\n",
    "    ].reset_index(drop = True)  \n",
    "\n",
    "    #dropping columns that contain zero - getting rid of the layers that do not have landfills\n",
    "    df_ = df_.loc [:,(df_ != 0).any(axis=0) ]\n",
    "\n",
    "    iBarHP = df_.hvplot.bar(\n",
    "        x        = 'Drill',\n",
    "        stacked  = True,\n",
    "        xlim = [0,4],\n",
    "        ylim = [df.Depth.min() - 2,1],\n",
    "        color    = ['#ED7D31', '#FFC000', '#70AD47', '#9E480E', '#997300'],\n",
    "        height   = height,\n",
    "        width = 200,\n",
    "        xlabel = ''\n",
    "    )\n",
    "    return iBarHP    \n",
    "\n",
    "\n",
    "iLineHP = pn.bind(iHPV, drills_wid)\n",
    "iBarHP = pn.bind(iHPL, drills_wid)"
   ]
  },
  {
   "cell_type": "markdown",
   "id": "ce5ce7ca-622c-426d-ac18-d206b60b608c",
   "metadata": {
    "tags": []
   },
   "source": [
    "## Dashboard"
   ]
  },
  {
   "cell_type": "code",
   "execution_count": 82,
   "id": "d6fb685c-da18-4aef-b79b-eddd54440fe8",
   "metadata": {},
   "outputs": [
    {
     "name": "stdout",
     "output_type": "stream",
     "text": [
      "Launching server at http://localhost:55874\n"
     ]
    },
    {
     "data": {
      "text/plain": [
       "<bokeh.server.server.Server at 0x2b1ca714850>"
      ]
     },
     "execution_count": 82,
     "metadata": {},
     "output_type": "execute_result"
    }
   ],
   "source": [
    "'''\n",
    "Dashboard\n",
    "\n",
    "app\n",
    "\n",
    "'''\n",
    "# Header\n",
    "Inowas_fn = 'Figures/INOWAS.jpg'\n",
    "SMARTControl_fn = 'Figures/SmartControl.png'\n",
    "dashboard_title = pn.panel('## SMART-Control')\n",
    "header_c1 = pn.Column(pn.pane.JPG(Inowas_fn, height=40))\n",
    "header_c2 = pn.Column(pn.pane.PNG('Figures/SmartControl.png', height=40))\n",
    "\n",
    "header_r1 = pn.Row(\n",
    "    header_c1,\n",
    "    pn.Spacer(width=450),\n",
    "    header_c2,\n",
    "    background='aqua',\n",
    "    height = 50,\n",
    "    height_policy = 'fixed',\n",
    "    sizing_mode = 'stretch_width',\n",
    "    min_width = min_width,\n",
    "    max_width = max_width\n",
    "              )\n",
    "\n",
    "## Elements\n",
    "\n",
    "### Map\n",
    "Map_r1 = pn.Row(date_wid , scalearrows_wid)\n",
    "Map_r2 = pn.Row(iMap)\n",
    "Map_c = pn.Column(\n",
    "    Map_r1, Map_r2,\n",
    "    height_policy = 'fit',\n",
    "    sizing_mode = 'stretch_width',\n",
    "    min_width = min_width,\n",
    "    max_width = max_width\n",
    "                    )\n",
    "\n",
    "# Map_c.show()\n",
    "\n",
    "### Time Series\n",
    "TS_c = pn.Column (\n",
    "    iScatterTS,\n",
    "    height_policy = 'fit',\n",
    "    sizing_mode = 'stretch_width',\n",
    "    min_width = min_width,\n",
    "    max_width = max_width)\n",
    "\n",
    "\n",
    "### Aquifer characterization  (AC)\n",
    "AC_r1 = pn.Row (drills_wid)\n",
    "AC_r2 = pn.Row(\n",
    "    pn.layout.HSpacer(width = 200), \n",
    "    pn.Row(iLineHP,  max_width = 500, min_width = 600),\n",
    "    pn.Row (iBarHP,  max_width = 200),\n",
    "    pn.layout.HSpacer(width = 200), \n",
    "    min_width = min_width,\n",
    "    max_width = max_width\n",
    ")\n",
    "\n",
    "AC_c = pn.Column (AC_r1,AC_r2)\n",
    "\n",
    "AC_c = pn.Column (AC_r1,AC_r2)\n",
    "# AC_c.show()\n",
    "\n",
    "#Tabs\n",
    "body_r2 = pn.Tabs (('Map', Map_c) ,\n",
    "                   ('Scatter', TS_c), \n",
    "                   ('Hydrostratigraphy', AC_c),\n",
    "                   height_policy = 'fit',\n",
    "#                    max_height = 700\n",
    "                )\n",
    "\n",
    "\n",
    "#Bottom\n",
    "Groundwatch_fn = 'Figures/Groundwatch.png'\n",
    "Python_fn = 'Figures/Python-logo-notext.png'\n",
    "PegelAlarm_fn = 'Figures/INOWAS.jpg'\n",
    "TUDresden_fn = 'Figures/TuDresden.png'\n",
    "\n",
    "col1_r3 = pn.Column(pn.pane.PNG(Groundwatch_fn, height=40))\n",
    "col2_r3 = pn.Column(pn.pane.PNG(Python_fn, height=40))\n",
    "col3_r3 = pn.Column(pn.pane.PNG('Figures/PegelAlarm.png', height=40))\n",
    "col4_r3 = pn.Column(pn.pane.PNG(TUDresden_fn, height=40))\n",
    "\n",
    "\n",
    "bottom_r3 = pn.Row(\n",
    "    col1_r3, col2_r3 , col3_r3, col4_r3, \n",
    "    background='turquoise',\n",
    "    height = 50,\n",
    "    min_width = min_width,\n",
    "    max_width = max_width\n",
    ")\n",
    "\n",
    "dashboard = pn.Column(header_r1 ,body_r2, bottom_r3)\n",
    "\n",
    "\n",
    "dashboard.show()"
   ]
  }
 ],
 "metadata": {
  "kernelspec": {
   "display_name": "Python 3 (ipykernel)",
   "language": "python",
   "name": "python3"
  },
  "language_info": {
   "codemirror_mode": {
    "name": "ipython",
    "version": 3
   },
   "file_extension": ".py",
   "mimetype": "text/x-python",
   "name": "python",
   "nbconvert_exporter": "python",
   "pygments_lexer": "ipython3",
   "version": "3.9.13"
  }
 },
 "nbformat": 4,
 "nbformat_minor": 5
}
